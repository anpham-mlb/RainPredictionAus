{
 "cells": [
  {
   "cell_type": "markdown",
   "metadata": {},
   "source": [
    "# Rain in Australia: Predict rain tomorrow in Australia"
   ]
  },
  {
   "cell_type": "markdown",
   "metadata": {},
   "source": [
    "# A. Creating Spark Session and Loading the Data"
   ]
  },
  {
   "cell_type": "markdown",
   "metadata": {},
   "source": [
    "## Step 1: Import Spark Session and initialize Spark"
   ]
  },
  {
   "cell_type": "code",
   "execution_count": 1,
   "metadata": {},
   "outputs": [],
   "source": [
    "# Import PySpark\n",
    "import pyspark"
   ]
  },
  {
   "cell_type": "code",
   "execution_count": 2,
   "metadata": {},
   "outputs": [],
   "source": [
    "import os\n",
    "os.environ[\"PYSPARK_PYTHON\"]=\"/usr/local/bin/python3\""
   ]
  },
  {
   "cell_type": "code",
   "execution_count": 3,
   "metadata": {},
   "outputs": [],
   "source": [
    "# Create the SparkContext which acts as the main entry point for Spark Core functionality\n",
    "# Create the SparkConf object that contains information about the application\n",
    "# The jar package is required to install in SparkConf to make sure SparkContext & SparkSession run smoothly\n",
    "# In my system, the jar package will be installed for Spark  2.4.3 and Scala 2.11.12\n",
    "from pyspark import SparkConf, SparkContext\n",
    "conf = SparkConf()\\\n",
    ".setAppName(\"rain_prediction\")\\\n",
    ".setMaster(\"local[4]\")\n",
    "\n",
    "# Create the SparkSession object\n",
    "# The port number of Mongodb is included in the conection line (27017)\n",
    "from pyspark.sql import SparkSession\n",
    "spark = SparkSession\\\n",
    ".builder\\\n",
    ".config(conf = conf)\\\n",
    ".config(\"spark.mongodb.input.uri\", \"mongodb://127.0.0.1:27017/rain_in_aus\")\\\n",
    ".config(\"spark.mongodb.output.uri\", \"mongodb://127.0.0.1:27017/rain_in_aus\")\\\n",
    ".getOrCreate()"
   ]
  },
  {
   "cell_type": "code",
   "execution_count": 4,
   "metadata": {},
   "outputs": [],
   "source": [
    "# Import other statements\n",
    "from pyspark.sql.functions import col, avg, when, countDistinct\n",
    "import pyspark.sql.functions as F\n",
    "from pyspark.ml import Pipeline\n",
    "from pyspark.ml.feature import StringIndexer\n",
    "from pyspark.ml.linalg import Vectors\n",
    "from pyspark.ml.feature import VectorAssembler"
   ]
  },
  {
   "cell_type": "code",
   "execution_count": 5,
   "metadata": {},
   "outputs": [],
   "source": [
    "from pyspark.ml import Pipeline\n",
    "from pyspark.ml.feature import StringIndexer\n",
    "import numpy as np\n",
    "from matplotlib import pyplot as plt\n",
    "%matplotlib inline\n",
    "\n",
    "from pyspark.ml.classification import DecisionTreeClassifier\n",
    "from pyspark.ml.evaluation import MulticlassClassificationEvaluator\n",
    "from pyspark.ml.classification import RandomForestClassifier\n",
    "from pyspark.ml.classification import LogisticRegression\n",
    "from pyspark.ml.classification import GBTClassifier\n",
    "from pyspark.mllib.evaluation import MulticlassMetrics\n",
    "from pyspark.ml.evaluation import BinaryClassificationEvaluator\n",
    "\n",
    "from pyspark.ml.tuning import ParamGridBuilder, CrossValidator"
   ]
  },
  {
   "cell_type": "markdown",
   "metadata": {},
   "source": [
    "## Step 2: Load the dataset and print the schema and total number of entries"
   ]
  },
  {
   "cell_type": "code",
   "execution_count": 6,
   "metadata": {},
   "outputs": [],
   "source": [
    "# Load the data as the CSV file\n",
    "dataset = spark.read.csv('weatherAUS.csv',\n",
    "                        header = True)"
   ]
  },
  {
   "cell_type": "code",
   "execution_count": 7,
   "metadata": {},
   "outputs": [
    {
     "output_type": "stream",
     "name": "stdout",
     "text": [
      "The total number of entries in the CSV file is 142193\n"
     ]
    }
   ],
   "source": [
    "# Print the total number of entries in the CSV file\n",
    "print('The total number of entries in the CSV file is', dataset.count())"
   ]
  },
  {
   "cell_type": "markdown",
   "metadata": {},
   "source": [
    "# B. Data Cleaning and Processing"
   ]
  },
  {
   "cell_type": "markdown",
   "metadata": {},
   "source": [
    "## Step 3: Delete columns from the dataset"
   ]
  },
  {
   "cell_type": "code",
   "execution_count": 8,
   "metadata": {},
   "outputs": [
    {
     "output_type": "stream",
     "name": "stdout",
     "text": [
      "+----------+--------+-------+-------+--------+-----------+--------+-----------+-------------+----------+----------+------------+------------+-----------+-----------+-----------+-----------+--------+--------+-------+-------+---------+------------+\n|Date      |Location|MinTemp|MaxTemp|Rainfall|Evaporation|Sunshine|WindGustDir|WindGustSpeed|WindDir9am|WindDir3pm|WindSpeed9am|WindSpeed3pm|Humidity9am|Humidity3pm|Pressure9am|Pressure3pm|Cloud9am|Cloud3pm|Temp9am|Temp3pm|RainToday|RainTomorrow|\n+----------+--------+-------+-------+--------+-----------+--------+-----------+-------------+----------+----------+------------+------------+-----------+-----------+-----------+-----------+--------+--------+-------+-------+---------+------------+\n|2008-12-01|Albury  |13.4   |22.9   |0.6     |NA         |NA      |W          |44           |W         |WNW       |20          |24          |71         |22         |1007.7     |1007.1     |8       |NA      |16.9   |21.8   |No       |No          |\n|2008-12-02|Albury  |7.4    |25.1   |0       |NA         |NA      |WNW        |44           |NNW       |WSW       |4           |22          |44         |25         |1010.6     |1007.8     |NA      |NA      |17.2   |24.3   |No       |No          |\n|2008-12-03|Albury  |12.9   |25.7   |0       |NA         |NA      |WSW        |46           |W         |WSW       |19          |26          |38         |30         |1007.6     |1008.7     |NA      |2       |21     |23.2   |No       |No          |\n|2008-12-04|Albury  |9.2    |28     |0       |NA         |NA      |NE         |24           |SE        |E         |11          |9           |45         |16         |1017.6     |1012.8     |NA      |NA      |18.1   |26.5   |No       |No          |\n|2008-12-05|Albury  |17.5   |32.3   |1       |NA         |NA      |W          |41           |ENE       |NW        |7           |20          |82         |33         |1010.8     |1006       |7       |8       |17.8   |29.7   |No       |No          |\n+----------+--------+-------+-------+--------+-----------+--------+-----------+-------------+----------+----------+------------+------------+-----------+-----------+-----------+-----------+--------+--------+-------+-------+---------+------------+\nonly showing top 5 rows\n\n"
     ]
    }
   ],
   "source": [
    "# Show the dataset before removing some columns\n",
    "dataset.show(5, truncate = False)"
   ]
  },
  {
   "cell_type": "code",
   "execution_count": 9,
   "metadata": {},
   "outputs": [],
   "source": [
    "## Delete 'Date', 'Location', 'Evaporation', 'Sunshine', 'Cloud9am', 'Cloud3pm', 'Temp9am', 'Temp3pm' column from the dataset\n",
    "dataset = dataset.\\\n",
    "select([column for column in dataset.columns if column not in {'Date', 'Location', 'Evaporation', \n",
    "                                                               'Sunshine', 'Cloud9am', 'Cloud3pm', 'Temp9am', 'Temp3pm'}])"
   ]
  },
  {
   "cell_type": "code",
   "execution_count": 10,
   "metadata": {},
   "outputs": [
    {
     "output_type": "stream",
     "name": "stdout",
     "text": [
      "+-------+-------+--------+-----------+-------------+----------+----------+------------+------------+-----------+-----------+-----------+-----------+---------+------------+\n|MinTemp|MaxTemp|Rainfall|WindGustDir|WindGustSpeed|WindDir9am|WindDir3pm|WindSpeed9am|WindSpeed3pm|Humidity9am|Humidity3pm|Pressure9am|Pressure3pm|RainToday|RainTomorrow|\n+-------+-------+--------+-----------+-------------+----------+----------+------------+------------+-----------+-----------+-----------+-----------+---------+------------+\n|   13.4|   22.9|     0.6|          W|           44|         W|       WNW|          20|          24|         71|         22|     1007.7|     1007.1|       No|          No|\n|    7.4|   25.1|       0|        WNW|           44|       NNW|       WSW|           4|          22|         44|         25|     1010.6|     1007.8|       No|          No|\n|   12.9|   25.7|       0|        WSW|           46|         W|       WSW|          19|          26|         38|         30|     1007.6|     1008.7|       No|          No|\n|    9.2|     28|       0|         NE|           24|        SE|         E|          11|           9|         45|         16|     1017.6|     1012.8|       No|          No|\n|   17.5|   32.3|       1|          W|           41|       ENE|        NW|           7|          20|         82|         33|     1010.8|       1006|       No|          No|\n+-------+-------+--------+-----------+-------------+----------+----------+------------+------------+-----------+-----------+-----------+-----------+---------+------------+\nonly showing top 5 rows\n\n"
     ]
    }
   ],
   "source": [
    "# Show the dataset after removing some columns\n",
    "dataset.show(5)"
   ]
  },
  {
   "cell_type": "markdown",
   "metadata": {},
   "source": [
    "## Step 4: Print the number of missing data in each column"
   ]
  },
  {
   "cell_type": "code",
   "execution_count": 11,
   "metadata": {
    "scrolled": true
   },
   "outputs": [
    {
     "output_type": "execute_result",
     "data": {
      "text/plain": [
       "['MinTemp',\n",
       " 'MaxTemp',\n",
       " 'Rainfall',\n",
       " 'WindGustDir',\n",
       " 'WindGustSpeed',\n",
       " 'WindDir9am',\n",
       " 'WindDir3pm',\n",
       " 'WindSpeed9am',\n",
       " 'WindSpeed3pm',\n",
       " 'Humidity9am',\n",
       " 'Humidity3pm',\n",
       " 'Pressure9am',\n",
       " 'Pressure3pm',\n",
       " 'RainToday',\n",
       " 'RainTomorrow']"
      ]
     },
     "metadata": {},
     "execution_count": 11
    }
   ],
   "source": [
    "#Return a list containing the name of columns\n",
    "col_name = dataset.columns\n",
    "col_name"
   ]
  },
  {
   "cell_type": "code",
   "execution_count": 12,
   "metadata": {},
   "outputs": [],
   "source": [
    "# Create a function that counts the null values in each column from the dataset\n",
    "def count_null_values(col_name):\n",
    "    return dataset.where(col(col_name) == 'NA').count()"
   ]
  },
  {
   "cell_type": "code",
   "execution_count": 13,
   "metadata": {
    "scrolled": true
   },
   "outputs": [
    {
     "output_type": "stream",
     "name": "stdout",
     "text": [
      "The number of null values in MinTemp: 637\n",
      "The number of null values in MaxTemp: 322\n",
      "The number of null values in Rainfall: 1406\n",
      "The number of null values in WindGustDir: 9330\n",
      "The number of null values in WindGustSpeed: 9270\n",
      "The number of null values in WindDir9am: 10013\n",
      "The number of null values in WindDir3pm: 3778\n",
      "The number of null values in WindSpeed9am: 1348\n",
      "The number of null values in WindSpeed3pm: 2630\n",
      "The number of null values in Humidity9am: 1774\n",
      "The number of null values in Humidity3pm: 3610\n",
      "The number of null values in Pressure9am: 14014\n",
      "The number of null values in Pressure3pm: 13981\n",
      "The number of null values in RainToday: 1406\n",
      "The number of null values in RainTomorrow: 0\n"
     ]
    }
   ],
   "source": [
    "# Print the number of null values in each column from the dataset\n",
    "for column in col_name:\n",
    "    print('The number of null values in {0}: {1}'.format(column, count_null_values(column)))"
   ]
  },
  {
   "cell_type": "markdown",
   "metadata": {},
   "source": [
    "## Step 5: Fill the missing data with average value and maximum occurrence value"
   ]
  },
  {
   "cell_type": "code",
   "execution_count": 14,
   "metadata": {},
   "outputs": [
    {
     "output_type": "execute_result",
     "data": {
      "text/plain": [
       "[('MinTemp', 'string'),\n",
       " ('MaxTemp', 'string'),\n",
       " ('Rainfall', 'string'),\n",
       " ('WindGustDir', 'string'),\n",
       " ('WindGustSpeed', 'string'),\n",
       " ('WindDir9am', 'string'),\n",
       " ('WindDir3pm', 'string'),\n",
       " ('WindSpeed9am', 'string'),\n",
       " ('WindSpeed3pm', 'string'),\n",
       " ('Humidity9am', 'string'),\n",
       " ('Humidity3pm', 'string'),\n",
       " ('Pressure9am', 'string'),\n",
       " ('Pressure3pm', 'string'),\n",
       " ('RainToday', 'string'),\n",
       " ('RainTomorrow', 'string')]"
      ]
     },
     "metadata": {},
     "execution_count": 14
    }
   ],
   "source": [
    "# Check the type of value in the dataset\n",
    "dataset.dtypes"
   ]
  },
  {
   "cell_type": "code",
   "execution_count": 15,
   "metadata": {
    "scrolled": false
   },
   "outputs": [
    {
     "output_type": "stream",
     "name": "stdout",
     "text": [
      "+-------+-------+--------+-----------+-------------+----------+----------+------------+------------+-----------+-----------+-----------+-----------+---------+------------+\n|MinTemp|MaxTemp|Rainfall|WindGustDir|WindGustSpeed|WindDir9am|WindDir3pm|WindSpeed9am|WindSpeed3pm|Humidity9am|Humidity3pm|Pressure9am|Pressure3pm|RainToday|RainTomorrow|\n+-------+-------+--------+-----------+-------------+----------+----------+------------+------------+-----------+-----------+-----------+-----------+---------+------------+\n|   13.4|   22.9|     0.6|          W|           44|         W|       WNW|          20|          24|         71|         22|     1007.7|     1007.1|       No|          No|\n|    7.4|   25.1|       0|        WNW|           44|       NNW|       WSW|           4|          22|         44|         25|     1010.6|     1007.8|       No|          No|\n|   12.9|   25.7|       0|        WSW|           46|         W|       WSW|          19|          26|         38|         30|     1007.6|     1008.7|       No|          No|\n|    9.2|     28|       0|         NE|           24|        SE|         E|          11|           9|         45|         16|     1017.6|     1012.8|       No|          No|\n|   17.5|   32.3|       1|          W|           41|       ENE|        NW|           7|          20|         82|         33|     1010.8|       1006|       No|          No|\n+-------+-------+--------+-----------+-------------+----------+----------+------------+------------+-----------+-----------+-----------+-----------+---------+------------+\nonly showing top 5 rows\n\n"
     ]
    }
   ],
   "source": [
    "# Show the dataset\n",
    "dataset.show(5)"
   ]
  },
  {
   "cell_type": "markdown",
   "metadata": {},
   "source": [
    "### 5.1. Identify the columns which have numeric values, calculate the average and fill the null value with the aveage"
   ]
  },
  {
   "cell_type": "code",
   "execution_count": 16,
   "metadata": {},
   "outputs": [],
   "source": [
    "# Create a list that contains the name of columns having numeric values\n",
    "num_col = ['MinTemp',\n",
    "          'MaxTemp',\n",
    "          'Rainfall',\n",
    "          'WindGustSpeed',\n",
    "          'WindSpeed9am',\n",
    "          'WindSpeed3pm',\n",
    "          'Humidity9am',\n",
    "          'Humidity3pm',\n",
    "          'Pressure9am',\n",
    "          'Pressure3pm']"
   ]
  },
  {
   "cell_type": "code",
   "execution_count": 17,
   "metadata": {},
   "outputs": [],
   "source": [
    "# Create a function that calculates the average value of numeric columns\n",
    "def calculate_avg_val(col_name):\n",
    "    avg_val = dataset.agg(avg(col(col_name))).collect()[0][0]\n",
    "    return avg_val"
   ]
  },
  {
   "cell_type": "code",
   "execution_count": 18,
   "metadata": {},
   "outputs": [],
   "source": [
    "# Fill null values in each numeric columns by the average value\n",
    "for col_name in num_col:\n",
    "    dataset = dataset.withColumn(col_name, \\\n",
    "                                 when(dataset[col_name] == 'NA',\\\n",
    "                                      calculate_avg_val(col_name)).otherwise(dataset[col_name]))"
   ]
  },
  {
   "cell_type": "code",
   "execution_count": 19,
   "metadata": {
    "scrolled": true
   },
   "outputs": [
    {
     "output_type": "stream",
     "name": "stdout",
     "text": [
      "+-------+-------+------------------+-----------+-------------+----------+----------+---------------+------------+-----------+-----------+-----------+-----------+---------+------------+\n|MinTemp|MaxTemp|Rainfall          |WindGustDir|WindGustSpeed|WindDir9am|WindDir3pm|WindSpeed9am   |WindSpeed3pm|Humidity9am|Humidity3pm|Pressure9am|Pressure3pm|RainToday|RainTomorrow|\n+-------+-------+------------------+-----------+-------------+----------+----------+---------------+------------+-----------+-----------+-----------+-----------+---------+------------+\n|13.4   |22.9   |0.6               |W          |44           |W         |WNW       |20             |24          |71         |22         |1007.7     |1007.1     |No       |No          |\n|7.4    |25.1   |0                 |WNW        |44           |NNW       |WSW       |4              |22          |44         |25         |1010.6     |1007.8     |No       |No          |\n|12.9   |25.7   |0                 |WSW        |46           |W         |WSW       |19             |26          |38         |30         |1007.6     |1008.7     |No       |No          |\n|9.2    |28     |0                 |NE         |24           |SE        |E         |11             |9           |45         |16         |1017.6     |1012.8     |No       |No          |\n|17.5   |32.3   |1                 |W          |41           |ENE       |NW        |7              |20          |82         |33         |1010.8     |1006       |No       |No          |\n|14.6   |29.7   |0.2               |WNW        |56           |W         |W         |19             |24          |55         |23         |1009.2     |1005.4     |No       |No          |\n|14.3   |25     |0                 |W          |50           |SW        |W         |20             |24          |49         |19         |1009.6     |1008.2     |No       |No          |\n|7.7    |26.7   |0                 |W          |35           |SSE       |W         |6              |17          |48         |19         |1013.4     |1010.1     |No       |No          |\n|9.7    |31.9   |0                 |NNW        |80           |SE        |NW        |7              |28          |42         |9          |1008.9     |1003.6     |No       |Yes         |\n|13.1   |30.1   |1.4               |W          |28           |S         |SSE       |15             |11          |58         |27         |1007       |1005.7     |Yes      |No          |\n|13.4   |30.4   |0                 |N          |30           |SSE       |ESE       |17             |6           |48         |22         |1011.8     |1008.7     |No       |Yes         |\n|15.9   |21.7   |2.2               |NNE        |31           |NE        |ENE       |15             |13          |89         |91         |1010.5     |1004.2     |Yes      |Yes         |\n|15.9   |18.6   |15.6              |W          |61           |NNW       |NNW       |28             |28          |76         |93         |994.3      |993        |Yes      |Yes         |\n|12.6   |21     |3.6               |SW         |44           |W         |SSW       |24             |20          |65         |43         |1001.2     |1001.8     |Yes      |No          |\n|9.8    |27.7   |2.3499740743107442|WNW        |50           |NA        |WNW       |14.001988000994|22          |50         |28         |1013.4     |1010.3     |NA       |No          |\n|14.1   |20.9   |0                 |ENE        |22           |SSW       |E         |11             |9           |69         |82         |1012.2     |1010.4     |No       |Yes         |\n|13.5   |22.9   |16.8              |W          |63           |N         |WNW       |6              |20          |80         |65         |1005.8     |1002.2     |Yes      |Yes         |\n|11.2   |22.5   |10.6              |SSE        |43           |WSW       |SW        |24             |17          |47         |32         |1009.4     |1009.7     |Yes      |No          |\n|9.8    |25.6   |0                 |SSE        |26           |SE        |NNW       |17             |6           |45         |26         |1019.2     |1017.1     |No       |No          |\n|11.5   |29.3   |0                 |S          |24           |SE        |SE        |9              |9           |56         |28         |1019.3     |1014.8     |No       |No          |\n+-------+-------+------------------+-----------+-------------+----------+----------+---------------+------------+-----------+-----------+-----------+-----------+---------+------------+\nonly showing top 20 rows\n\n"
     ]
    }
   ],
   "source": [
    "# Show the dataset after filling null values\n",
    "dataset.show(truncate = False)"
   ]
  },
  {
   "cell_type": "markdown",
   "metadata": {},
   "source": [
    "### 5.2. Identify the columns which have non-numeric values and find the most frequent item. Fill the null values with that item for that particular column."
   ]
  },
  {
   "cell_type": "code",
   "execution_count": 20,
   "metadata": {},
   "outputs": [],
   "source": [
    "# Create a list that contains the name of columns having non_numeric values\n",
    "non_num_col = ['WindGustDir',\n",
    "              'WindDir9am',\n",
    "              'WindDir3pm',\n",
    "              'RainToday',\n",
    "              'RainTomorrow']"
   ]
  },
  {
   "cell_type": "code",
   "execution_count": 21,
   "metadata": {},
   "outputs": [],
   "source": [
    "def calculate_freq_val(col_name):\n",
    "    order_data = dataset.groupBy(col_name).count()\n",
    "    most_freq_val = order_data.select(col_name).where(col('count') == \\\n",
    "                                                       order_data.sort(col('count').desc()).\\\n",
    "                                                       select('count').collect()[0][0]).collect()[0][0] \n",
    "    return most_freq_val"
   ]
  },
  {
   "cell_type": "code",
   "execution_count": 22,
   "metadata": {},
   "outputs": [],
   "source": [
    "# Fill null values in each non-numeric columns by the most frequent value\n",
    "for col_name in non_num_col:\n",
    "    dataset = dataset.withColumn(col_name, \\\n",
    "                                 when(dataset[col_name] == 'NA',\\\n",
    "                                      calculate_freq_val(col_name)).otherwise(dataset[col_name]))"
   ]
  },
  {
   "cell_type": "code",
   "execution_count": 23,
   "metadata": {},
   "outputs": [
    {
     "output_type": "stream",
     "name": "stdout",
     "text": [
      "+-------+-------+------------------+-----------+-------------+----------+----------+---------------+------------+-----------+-----------+-----------+-----------+---------+------------+\n|MinTemp|MaxTemp|          Rainfall|WindGustDir|WindGustSpeed|WindDir9am|WindDir3pm|   WindSpeed9am|WindSpeed3pm|Humidity9am|Humidity3pm|Pressure9am|Pressure3pm|RainToday|RainTomorrow|\n+-------+-------+------------------+-----------+-------------+----------+----------+---------------+------------+-----------+-----------+-----------+-----------+---------+------------+\n|   13.4|   22.9|               0.6|          W|           44|         W|       WNW|             20|          24|         71|         22|     1007.7|     1007.1|       No|          No|\n|    7.4|   25.1|                 0|        WNW|           44|       NNW|       WSW|              4|          22|         44|         25|     1010.6|     1007.8|       No|          No|\n|   12.9|   25.7|                 0|        WSW|           46|         W|       WSW|             19|          26|         38|         30|     1007.6|     1008.7|       No|          No|\n|    9.2|     28|                 0|         NE|           24|        SE|         E|             11|           9|         45|         16|     1017.6|     1012.8|       No|          No|\n|   17.5|   32.3|                 1|          W|           41|       ENE|        NW|              7|          20|         82|         33|     1010.8|       1006|       No|          No|\n|   14.6|   29.7|               0.2|        WNW|           56|         W|         W|             19|          24|         55|         23|     1009.2|     1005.4|       No|          No|\n|   14.3|     25|                 0|          W|           50|        SW|         W|             20|          24|         49|         19|     1009.6|     1008.2|       No|          No|\n|    7.7|   26.7|                 0|          W|           35|       SSE|         W|              6|          17|         48|         19|     1013.4|     1010.1|       No|          No|\n|    9.7|   31.9|                 0|        NNW|           80|        SE|        NW|              7|          28|         42|          9|     1008.9|     1003.6|       No|         Yes|\n|   13.1|   30.1|               1.4|          W|           28|         S|       SSE|             15|          11|         58|         27|       1007|     1005.7|      Yes|          No|\n|   13.4|   30.4|                 0|          N|           30|       SSE|       ESE|             17|           6|         48|         22|     1011.8|     1008.7|       No|         Yes|\n|   15.9|   21.7|               2.2|        NNE|           31|        NE|       ENE|             15|          13|         89|         91|     1010.5|     1004.2|      Yes|         Yes|\n|   15.9|   18.6|              15.6|          W|           61|       NNW|       NNW|             28|          28|         76|         93|      994.3|        993|      Yes|         Yes|\n|   12.6|     21|               3.6|         SW|           44|         W|       SSW|             24|          20|         65|         43|     1001.2|     1001.8|      Yes|          No|\n|    9.8|   27.7|2.3499740743107442|        WNW|           50|         N|       WNW|14.001988000994|          22|         50|         28|     1013.4|     1010.3|       No|          No|\n|   14.1|   20.9|                 0|        ENE|           22|       SSW|         E|             11|           9|         69|         82|     1012.2|     1010.4|       No|         Yes|\n|   13.5|   22.9|              16.8|          W|           63|         N|       WNW|              6|          20|         80|         65|     1005.8|     1002.2|      Yes|         Yes|\n|   11.2|   22.5|              10.6|        SSE|           43|       WSW|        SW|             24|          17|         47|         32|     1009.4|     1009.7|      Yes|          No|\n|    9.8|   25.6|                 0|        SSE|           26|        SE|       NNW|             17|           6|         45|         26|     1019.2|     1017.1|       No|          No|\n|   11.5|   29.3|                 0|          S|           24|        SE|        SE|              9|           9|         56|         28|     1019.3|     1014.8|       No|          No|\n+-------+-------+------------------+-----------+-------------+----------+----------+---------------+------------+-----------+-----------+-----------+-----------+---------+------------+\nonly showing top 20 rows\n\n"
     ]
    }
   ],
   "source": [
    "# Show the dataset after filling null values\n",
    "dataset.show()"
   ]
  },
  {
   "cell_type": "markdown",
   "metadata": {},
   "source": [
    "## Step 6: Data Transformation"
   ]
  },
  {
   "cell_type": "markdown",
   "metadata": {},
   "source": [
    "### 6.1. Transform numerical data "
   ]
  },
  {
   "cell_type": "code",
   "execution_count": 24,
   "metadata": {},
   "outputs": [],
   "source": [
    "# Convert values of numeric columns from the 'string' type into the 'double' type\n",
    "for col_name in num_col:\n",
    "    dataset = dataset.withColumn(col_name, col(col_name).cast('double'))"
   ]
  },
  {
   "cell_type": "code",
   "execution_count": 25,
   "metadata": {
    "scrolled": true
   },
   "outputs": [
    {
     "output_type": "stream",
     "name": "stdout",
     "text": [
      "+-------+-------+------------------+-----------+-------------+----------+----------+---------------+------------+-----------+-----------+-----------+-----------+---------+------------+\n|MinTemp|MaxTemp|          Rainfall|WindGustDir|WindGustSpeed|WindDir9am|WindDir3pm|   WindSpeed9am|WindSpeed3pm|Humidity9am|Humidity3pm|Pressure9am|Pressure3pm|RainToday|RainTomorrow|\n+-------+-------+------------------+-----------+-------------+----------+----------+---------------+------------+-----------+-----------+-----------+-----------+---------+------------+\n|   13.4|   22.9|               0.6|          W|         44.0|         W|       WNW|           20.0|        24.0|       71.0|       22.0|     1007.7|     1007.1|       No|          No|\n|    7.4|   25.1|               0.0|        WNW|         44.0|       NNW|       WSW|            4.0|        22.0|       44.0|       25.0|     1010.6|     1007.8|       No|          No|\n|   12.9|   25.7|               0.0|        WSW|         46.0|         W|       WSW|           19.0|        26.0|       38.0|       30.0|     1007.6|     1008.7|       No|          No|\n|    9.2|   28.0|               0.0|         NE|         24.0|        SE|         E|           11.0|         9.0|       45.0|       16.0|     1017.6|     1012.8|       No|          No|\n|   17.5|   32.3|               1.0|          W|         41.0|       ENE|        NW|            7.0|        20.0|       82.0|       33.0|     1010.8|     1006.0|       No|          No|\n|   14.6|   29.7|               0.2|        WNW|         56.0|         W|         W|           19.0|        24.0|       55.0|       23.0|     1009.2|     1005.4|       No|          No|\n|   14.3|   25.0|               0.0|          W|         50.0|        SW|         W|           20.0|        24.0|       49.0|       19.0|     1009.6|     1008.2|       No|          No|\n|    7.7|   26.7|               0.0|          W|         35.0|       SSE|         W|            6.0|        17.0|       48.0|       19.0|     1013.4|     1010.1|       No|          No|\n|    9.7|   31.9|               0.0|        NNW|         80.0|        SE|        NW|            7.0|        28.0|       42.0|        9.0|     1008.9|     1003.6|       No|         Yes|\n|   13.1|   30.1|               1.4|          W|         28.0|         S|       SSE|           15.0|        11.0|       58.0|       27.0|     1007.0|     1005.7|      Yes|          No|\n|   13.4|   30.4|               0.0|          N|         30.0|       SSE|       ESE|           17.0|         6.0|       48.0|       22.0|     1011.8|     1008.7|       No|         Yes|\n|   15.9|   21.7|               2.2|        NNE|         31.0|        NE|       ENE|           15.0|        13.0|       89.0|       91.0|     1010.5|     1004.2|      Yes|         Yes|\n|   15.9|   18.6|              15.6|          W|         61.0|       NNW|       NNW|           28.0|        28.0|       76.0|       93.0|      994.3|      993.0|      Yes|         Yes|\n|   12.6|   21.0|               3.6|         SW|         44.0|         W|       SSW|           24.0|        20.0|       65.0|       43.0|     1001.2|     1001.8|      Yes|          No|\n|    9.8|   27.7|2.3499740743107442|        WNW|         50.0|         N|       WNW|14.001988000994|        22.0|       50.0|       28.0|     1013.4|     1010.3|       No|          No|\n|   14.1|   20.9|               0.0|        ENE|         22.0|       SSW|         E|           11.0|         9.0|       69.0|       82.0|     1012.2|     1010.4|       No|         Yes|\n|   13.5|   22.9|              16.8|          W|         63.0|         N|       WNW|            6.0|        20.0|       80.0|       65.0|     1005.8|     1002.2|      Yes|         Yes|\n|   11.2|   22.5|              10.6|        SSE|         43.0|       WSW|        SW|           24.0|        17.0|       47.0|       32.0|     1009.4|     1009.7|      Yes|          No|\n|    9.8|   25.6|               0.0|        SSE|         26.0|        SE|       NNW|           17.0|         6.0|       45.0|       26.0|     1019.2|     1017.1|       No|          No|\n|   11.5|   29.3|               0.0|          S|         24.0|        SE|        SE|            9.0|         9.0|       56.0|       28.0|     1019.3|     1014.8|       No|          No|\n+-------+-------+------------------+-----------+-------------+----------+----------+---------------+------------+-----------+-----------+-----------+-----------+---------+------------+\nonly showing top 20 rows\n\n"
     ]
    }
   ],
   "source": [
    "# Show the dataset after transforming numerical data\n",
    "dataset.show()"
   ]
  },
  {
   "cell_type": "markdown",
   "metadata": {},
   "source": [
    "### 6.2. Transform non-numerical data "
   ]
  },
  {
   "cell_type": "code",
   "execution_count": 26,
   "metadata": {},
   "outputs": [],
   "source": [
    "# Create a list that contains the name of columns having non_numeric values\n",
    "non_num_col = ['WindGustDir',\n",
    "              'WindDir9am',\n",
    "              'WindDir3pm',\n",
    "              'RainToday',\n",
    "              'RainTomorrow']"
   ]
  },
  {
   "cell_type": "code",
   "execution_count": 27,
   "metadata": {},
   "outputs": [],
   "source": [
    "# Create a list of index for each value of each non-numerical column\n",
    "# The Estimator implements the method fit() in the dataset\n",
    "indexers = [StringIndexer(inputCol = col_name,\n",
    "                         outputCol = col_name + '_index').\\\n",
    "            fit(dataset) for col_name in non_num_col]"
   ]
  },
  {
   "cell_type": "code",
   "execution_count": 28,
   "metadata": {},
   "outputs": [],
   "source": [
    "# Create a Pipeline consisting of a sequence of stages which are indexs created from the list above\n",
    "pipeline = Pipeline(stages = indexers)"
   ]
  },
  {
   "cell_type": "code",
   "execution_count": 29,
   "metadata": {},
   "outputs": [],
   "source": [
    "# The fitted model from the Pipeline which consists of fitted models and transformers, corresponding to the pipeline stages\n",
    "# The Transformer implements the method transform() which converts the dataframe into another, \n",
    "# by appending index columns predicted from the 'fit' model\n",
    "dataset = pipeline.fit(dataset).transform(dataset)"
   ]
  },
  {
   "cell_type": "code",
   "execution_count": 30,
   "metadata": {},
   "outputs": [],
   "source": [
    "# Drop non-numerical columns in the dataset\n",
    "dataset = dataset.drop('WindGustDir', 'WindDir9am', 'WindDir3pm', 'RainToday', 'RainTomorrow')"
   ]
  },
  {
   "cell_type": "code",
   "execution_count": 31,
   "metadata": {},
   "outputs": [
    {
     "output_type": "stream",
     "name": "stdout",
     "text": [
      "+-------+-------+--------+-------------+------------+------------+-----------+-----------+-----------+-----------+-----------------+----------------+----------------+---------------+------------------+\n|MinTemp|MaxTemp|Rainfall|WindGustSpeed|WindSpeed9am|WindSpeed3pm|Humidity9am|Humidity3pm|Pressure9am|Pressure3pm|WindGustDir_index|WindDir9am_index|WindDir3pm_index|RainToday_index|RainTomorrow_index|\n+-------+-------+--------+-------------+------------+------------+-----------+-----------+-----------+-----------+-----------------+----------------+----------------+---------------+------------------+\n|   13.4|   22.9|     0.6|         44.0|        20.0|        24.0|       71.0|       22.0|     1007.7|     1007.1|              0.0|             6.0|             7.0|            0.0|               0.0|\n|    7.4|   25.1|     0.0|         44.0|         4.0|        22.0|       44.0|       25.0|     1010.6|     1007.8|              9.0|             9.0|             3.0|            0.0|               0.0|\n|   12.9|   25.7|     0.0|         46.0|        19.0|        26.0|       38.0|       30.0|     1007.6|     1008.7|              6.0|             6.0|             3.0|            0.0|               0.0|\n|    9.2|   28.0|     0.0|         24.0|        11.0|         9.0|       45.0|       16.0|     1017.6|     1012.8|             13.0|             1.0|            10.0|            0.0|               0.0|\n|   17.5|   32.3|     1.0|         41.0|         7.0|        20.0|       82.0|       33.0|     1010.8|     1006.0|              0.0|            10.0|             8.0|            0.0|               0.0|\n+-------+-------+--------+-------------+------------+------------+-----------+-----------+-----------+-----------+-----------------+----------------+----------------+---------------+------------------+\nonly showing top 5 rows\n\n"
     ]
    }
   ],
   "source": [
    "# Show the dataset after transforming non-numerical data\n",
    "dataset.show(5)"
   ]
  },
  {
   "cell_type": "markdown",
   "metadata": {},
   "source": [
    "## Step 07: Create the feature vector and divide the dataset "
   ]
  },
  {
   "cell_type": "markdown",
   "metadata": {},
   "source": [
    "### 7.1. Create the feature vector"
   ]
  },
  {
   "cell_type": "code",
   "execution_count": 32,
   "metadata": {},
   "outputs": [
    {
     "output_type": "execute_result",
     "data": {
      "text/plain": [
       "[('MinTemp', 'double'),\n",
       " ('MaxTemp', 'double'),\n",
       " ('Rainfall', 'double'),\n",
       " ('WindGustSpeed', 'double'),\n",
       " ('WindSpeed9am', 'double'),\n",
       " ('WindSpeed3pm', 'double'),\n",
       " ('Humidity9am', 'double'),\n",
       " ('Humidity3pm', 'double'),\n",
       " ('Pressure9am', 'double'),\n",
       " ('Pressure3pm', 'double'),\n",
       " ('WindGustDir_index', 'double'),\n",
       " ('WindDir9am_index', 'double'),\n",
       " ('WindDir3pm_index', 'double'),\n",
       " ('RainToday_index', 'double'),\n",
       " ('RainTomorrow_index', 'double')]"
      ]
     },
     "metadata": {},
     "execution_count": 32
    }
   ],
   "source": [
    "dataset.dtypes"
   ]
  },
  {
   "cell_type": "code",
   "execution_count": 33,
   "metadata": {},
   "outputs": [],
   "source": [
    "# Create a Transformer that combines a given list of columns into a single vector column\n",
    "# Except non-numerical columns, the feature vector is created from all columns \n",
    "# in the dataframe except non-numerical columns and 'RainTomorrow_index' column\n",
    "assembler = VectorAssembler(\n",
    "inputCols = list(set(dataset.columns) - set(['RainTomorrow_index'])),\n",
    "outputCol = 'FeatureVector')"
   ]
  },
  {
   "cell_type": "code",
   "execution_count": 34,
   "metadata": {},
   "outputs": [],
   "source": [
    "# Return the new dataset by adding the feature vector column\n",
    "dataset = assembler.transform(dataset)"
   ]
  },
  {
   "cell_type": "code",
   "execution_count": 35,
   "metadata": {
    "scrolled": false
   },
   "outputs": [
    {
     "output_type": "execute_result",
     "data": {
      "text/plain": [
       "['MinTemp',\n",
       " 'MaxTemp',\n",
       " 'Rainfall',\n",
       " 'WindGustSpeed',\n",
       " 'WindSpeed9am',\n",
       " 'WindSpeed3pm',\n",
       " 'Humidity9am',\n",
       " 'Humidity3pm',\n",
       " 'Pressure9am',\n",
       " 'Pressure3pm',\n",
       " 'WindGustDir_index',\n",
       " 'WindDir9am_index',\n",
       " 'WindDir3pm_index',\n",
       " 'RainToday_index',\n",
       " 'RainTomorrow_index',\n",
       " 'FeatureVector']"
      ]
     },
     "metadata": {},
     "execution_count": 35
    }
   ],
   "source": [
    "dataset.columns"
   ]
  },
  {
   "cell_type": "code",
   "execution_count": 36,
   "metadata": {},
   "outputs": [
    {
     "output_type": "stream",
     "name": "stdout",
     "text": [
      "+------------------+--------------------+\n|RainTomorrow_index|       FeatureVector|\n+------------------+--------------------+\n|               0.0|[1007.1,44.0,22.0...|\n|               0.0|[1007.8,44.0,25.0...|\n|               0.0|[1008.7,46.0,30.0...|\n|               0.0|[1012.8,24.0,16.0...|\n|               0.0|[1006.0,41.0,33.0...|\n+------------------+--------------------+\nonly showing top 5 rows\n\n"
     ]
    }
   ],
   "source": [
    "# Show the dataset that contains only two columns including 'RainTomorrow_index' and 'FeatureVector'\n",
    "new_df = dataset.select(*('RainTomorrow_index', 'FeatureVector'))\n",
    "new_df.show(5)"
   ]
  },
  {
   "cell_type": "markdown",
   "metadata": {},
   "source": [
    "### 7.2. Split the dataset"
   ]
  },
  {
   "cell_type": "code",
   "execution_count": 37,
   "metadata": {},
   "outputs": [],
   "source": [
    "# Split the dataset randomly between 70% and 30%\n",
    "(trainingData, testData) = new_df.randomSplit([0.7, 0.3])"
   ]
  },
  {
   "cell_type": "markdown",
   "metadata": {},
   "source": [
    "# C. Apply Machine Learning Algorithms"
   ]
  },
  {
   "cell_type": "markdown",
   "metadata": {},
   "source": [
    "## Step 8: Apply machine learning classification algorithms on the dataset and compare their accuracy. Plot the accuracy as bar graph. "
   ]
  },
  {
   "cell_type": "markdown",
   "metadata": {},
   "source": [
    "### 8.1. Run and calculate the accuracy of decision tree classifier"
   ]
  },
  {
   "cell_type": "code",
   "execution_count": 38,
   "metadata": {
    "scrolled": false
   },
   "outputs": [
    {
     "output_type": "stream",
     "name": "stdout",
     "text": [
      "+----------+------------------+\n|prediction|RainTomorrow_index|\n+----------+------------------+\n|       0.0|               0.0|\n|       0.0|               0.0|\n|       0.0|               0.0|\n|       0.0|               0.0|\n|       0.0|               0.0|\n+----------+------------------+\nonly showing top 5 rows\n\n"
     ]
    }
   ],
   "source": [
    "# Predict the values of RainTomorrow_index by the Decision Tree Classifier model\n",
    "dt = DecisionTreeClassifier(labelCol=\"RainTomorrow_index\", featuresCol=\"FeatureVector\")\n",
    "dt_model = dt.fit(trainingData)\n",
    "dt_predictions = dt_model.transform(testData)\n",
    "dt_predictions.select('prediction', \"RainTomorrow_index\").show(5)"
   ]
  },
  {
   "cell_type": "code",
   "execution_count": 39,
   "metadata": {},
   "outputs": [
    {
     "output_type": "stream",
     "name": "stdout",
     "text": [
      "The accuracy of the prediction = 0.834475 \n"
     ]
    }
   ],
   "source": [
    "# Calculate the accuracy of the prediction\n",
    "dt_evaluator = MulticlassClassificationEvaluator(labelCol=\"RainTomorrow_index\",\\\n",
    "                                              predictionCol='prediction',\\\n",
    "                                              metricName=\"accuracy\")\n",
    "dt_accuracy = dt_evaluator.evaluate(dt_predictions)\n",
    "print(\"The accuracy of the prediction = %g \" % (dt_accuracy))"
   ]
  },
  {
   "cell_type": "markdown",
   "metadata": {},
   "source": [
    "### 8.2. Run and calculate the accuracy of random forest classifier"
   ]
  },
  {
   "cell_type": "code",
   "execution_count": 40,
   "metadata": {},
   "outputs": [
    {
     "output_type": "stream",
     "name": "stdout",
     "text": [
      "+----------+------------------+\n|prediction|RainTomorrow_index|\n+----------+------------------+\n|       0.0|               0.0|\n|       0.0|               0.0|\n|       0.0|               0.0|\n|       0.0|               0.0|\n|       0.0|               0.0|\n+----------+------------------+\nonly showing top 5 rows\n\n"
     ]
    }
   ],
   "source": [
    "# Predict the values of RainTomorrow_index by the Random Forest Classifier model\n",
    "rf = RandomForestClassifier(labelCol= 'RainTomorrow_index', featuresCol= \"FeatureVector\", numTrees=10)\n",
    "rf_model = rf.fit(trainingData)\n",
    "rf_predictions = rf_model.transform(testData)\n",
    "rf_predictions.select(\"prediction\", \"RainTomorrow_index\").show(5)"
   ]
  },
  {
   "cell_type": "code",
   "execution_count": 41,
   "metadata": {},
   "outputs": [
    {
     "output_type": "stream",
     "name": "stdout",
     "text": [
      "The accuracy of the prediction = 0.834685 \n"
     ]
    }
   ],
   "source": [
    "# Calculate the accuracy of the prediction\n",
    "rf_evaluator = MulticlassClassificationEvaluator(labelCol=\"RainTomorrow_index\",\\\n",
    "                                              predictionCol='prediction',\\\n",
    "                                              metricName=\"accuracy\")\n",
    "rf_accuracy = rf_evaluator.evaluate(rf_predictions)\n",
    "print(\"The accuracy of the prediction = %g \" % (rf_accuracy))"
   ]
  },
  {
   "cell_type": "markdown",
   "metadata": {},
   "source": [
    "### 8.3. Run and calculate the accuracy of logistic regression"
   ]
  },
  {
   "cell_type": "code",
   "execution_count": 42,
   "metadata": {
    "scrolled": true
   },
   "outputs": [
    {
     "output_type": "stream",
     "name": "stdout",
     "text": [
      "+----------+------------------+\n|prediction|RainTomorrow_index|\n+----------+------------------+\n|       0.0|               0.0|\n|       0.0|               0.0|\n|       0.0|               0.0|\n|       0.0|               0.0|\n|       0.0|               0.0|\n+----------+------------------+\nonly showing top 5 rows\n\n"
     ]
    }
   ],
   "source": [
    "# Predict the values of RainTomorrow_index by the Logistic Regression model\n",
    "lr = LogisticRegression(labelCol= 'RainTomorrow_index', featuresCol= \"FeatureVector\", maxIter=10)\n",
    "lr_model = lr.fit(trainingData)\n",
    "lr_predictions = lr_model.transform(testData)\n",
    "lr_predictions.select(\"prediction\", \"RainTomorrow_index\").show(5)"
   ]
  },
  {
   "cell_type": "code",
   "execution_count": 43,
   "metadata": {},
   "outputs": [
    {
     "output_type": "stream",
     "name": "stdout",
     "text": [
      "The accuracy of the prediction = 0.814585 \n"
     ]
    }
   ],
   "source": [
    "# Calculate the accuracy of the prediction\n",
    "lr_evaluator = MulticlassClassificationEvaluator(labelCol=\"RainTomorrow_index\",\\\n",
    "                                              predictionCol='prediction',\\\n",
    "                                              metricName=\"accuracy\")\n",
    "lr_accuracy = lr_evaluator.evaluate(lr_predictions)\n",
    "print(\"The accuracy of the prediction = %g \" % (lr_accuracy))"
   ]
  },
  {
   "cell_type": "markdown",
   "metadata": {},
   "source": [
    "### 8.4. Run and calculate the accuracy of GBT classifier"
   ]
  },
  {
   "cell_type": "code",
   "execution_count": 44,
   "metadata": {
    "scrolled": true
   },
   "outputs": [
    {
     "output_type": "stream",
     "name": "stdout",
     "text": [
      "+----------+------------------+\n|prediction|RainTomorrow_index|\n+----------+------------------+\n|       0.0|               0.0|\n|       0.0|               0.0|\n|       0.0|               0.0|\n|       0.0|               0.0|\n|       0.0|               0.0|\n+----------+------------------+\nonly showing top 5 rows\n\n"
     ]
    }
   ],
   "source": [
    "# Predict the values of RainTomorrow_index by the GBT Classifier model\n",
    "gbt = GBTClassifier(labelCol= 'RainTomorrow_index', featuresCol= \"FeatureVector\", maxIter=10)\n",
    "gbt_model = gbt.fit(trainingData)\n",
    "gbt_predictions = gbt_model.transform(testData)\n",
    "gbt_predictions.select('prediction', 'RainTomorrow_index').show(5)"
   ]
  },
  {
   "cell_type": "code",
   "execution_count": 45,
   "metadata": {},
   "outputs": [
    {
     "output_type": "stream",
     "name": "stdout",
     "text": [
      "The accuracy of the prediction = 0.84151 \n"
     ]
    }
   ],
   "source": [
    "# Calculate the accuracy of the prediction\n",
    "gbt_evaluator = MulticlassClassificationEvaluator(labelCol=\"RainTomorrow_index\",\\\n",
    "                                              predictionCol='prediction',\\\n",
    "                                              metricName=\"accuracy\")\n",
    "gbt_accuracy = gbt_evaluator.evaluate(gbt_predictions)\n",
    "print(\"The accuracy of the prediction = %g \" % (gbt_accuracy))"
   ]
  },
  {
   "cell_type": "markdown",
   "metadata": {},
   "source": [
    "### 8.5. Draw the graph to demonstrate the comparison of the accuracy "
   ]
  },
  {
   "cell_type": "code",
   "execution_count": 46,
   "metadata": {},
   "outputs": [
    {
     "output_type": "display_data",
     "data": {
      "text/plain": "<Figure size 504x504 with 1 Axes>",
      "image/svg+xml": "<?xml version=\"1.0\" encoding=\"utf-8\" standalone=\"no\"?>\n<!DOCTYPE svg PUBLIC \"-//W3C//DTD SVG 1.1//EN\"\n  \"http://www.w3.org/Graphics/SVG/1.1/DTD/svg11.dtd\">\n<!-- Created with matplotlib (https://matplotlib.org/) -->\n<svg height=\"495.274375pt\" version=\"1.1\" viewBox=\"0 0 496.61875 495.274375\" width=\"496.61875pt\" xmlns=\"http://www.w3.org/2000/svg\" xmlns:xlink=\"http://www.w3.org/1999/xlink\">\n <metadata>\n  <rdf:RDF xmlns:cc=\"http://creativecommons.org/ns#\" xmlns:dc=\"http://purl.org/dc/elements/1.1/\" xmlns:rdf=\"http://www.w3.org/1999/02/22-rdf-syntax-ns#\">\n   <cc:Work>\n    <dc:type rdf:resource=\"http://purl.org/dc/dcmitype/StillImage\"/>\n    <dc:date>2020-12-03T00:54:27.983828</dc:date>\n    <dc:format>image/svg+xml</dc:format>\n    <dc:creator>\n     <cc:Agent>\n      <dc:title>Matplotlib v3.3.1, https://matplotlib.org/</dc:title>\n     </cc:Agent>\n    </dc:creator>\n   </cc:Work>\n  </rdf:RDF>\n </metadata>\n <defs>\n  <style type=\"text/css\">*{stroke-linecap:butt;stroke-linejoin:round;}</style>\n </defs>\n <g id=\"figure_1\">\n  <g id=\"patch_1\">\n   <path d=\"M 0 495.274375 \nL 496.61875 495.274375 \nL 496.61875 0 \nL 0 0 \nz\n\" style=\"fill:none;\"/>\n  </g>\n  <g id=\"axes_1\">\n   <g id=\"patch_2\">\n    <path d=\"M 50.14375 457.718125 \nL 489.41875 457.718125 \nL 489.41875 22.318125 \nL 50.14375 22.318125 \nz\n\" style=\"fill:#ffffff;\"/>\n   </g>\n   <g id=\"patch_3\">\n    <path clip-path=\"url(#p3293ff7b84)\" d=\"M 70.110795 7424.118125 \nL 127.159497 7424.118125 \nL 127.159497 157.512445 \nL 70.110795 157.512445 \nz\n\" style=\"fill:#0000ff;\"/>\n   </g>\n   <g id=\"patch_4\">\n    <path clip-path=\"url(#p3293ff7b84)\" d=\"M 184.208198 7424.118125 \nL 241.256899 7424.118125 \nL 241.256899 155.680682 \nL 184.208198 155.680682 \nz\n\" style=\"fill:#0000ff;\"/>\n   </g>\n   <g id=\"patch_5\">\n    <path clip-path=\"url(#p3293ff7b84)\" d=\"M 298.305601 7424.118125 \nL 355.354302 7424.118125 \nL 355.354302 330.715858 \nL 298.305601 330.715858 \nz\n\" style=\"fill:#0000ff;\"/>\n   </g>\n   <g id=\"patch_6\">\n    <path clip-path=\"url(#p3293ff7b84)\" d=\"M 412.403003 7424.118125 \nL 469.451705 7424.118125 \nL 469.451705 96.250134 \nL 412.403003 96.250134 \nz\n\" style=\"fill:#0000ff;\"/>\n   </g>\n   <g id=\"matplotlib.axis_1\">\n    <g id=\"xtick_1\">\n     <g id=\"line2d_1\">\n      <defs>\n       <path d=\"M 0 0 \nL 0 3.5 \n\" id=\"m5796b409a6\" style=\"stroke:#000000;stroke-width:0.8;\"/>\n      </defs>\n      <g>\n       <use style=\"stroke:#000000;stroke-width:0.8;\" x=\"98.635146\" xlink:href=\"#m5796b409a6\" y=\"457.718125\"/>\n      </g>\n     </g>\n     <g id=\"text_1\">\n      <!-- decision tree -->\n      <g transform=\"translate(66.378896 472.316562)scale(0.1 -0.1)\">\n       <defs>\n        <path d=\"M 45.40625 46.390625 \nL 45.40625 75.984375 \nL 54.390625 75.984375 \nL 54.390625 0 \nL 45.40625 0 \nL 45.40625 8.203125 \nQ 42.578125 3.328125 38.25 0.953125 \nQ 33.9375 -1.421875 27.875 -1.421875 \nQ 17.96875 -1.421875 11.734375 6.484375 \nQ 5.515625 14.40625 5.515625 27.296875 \nQ 5.515625 40.1875 11.734375 48.09375 \nQ 17.96875 56 27.875 56 \nQ 33.9375 56 38.25 53.625 \nQ 42.578125 51.265625 45.40625 46.390625 \nz\nM 14.796875 27.296875 \nQ 14.796875 17.390625 18.875 11.75 \nQ 22.953125 6.109375 30.078125 6.109375 \nQ 37.203125 6.109375 41.296875 11.75 \nQ 45.40625 17.390625 45.40625 27.296875 \nQ 45.40625 37.203125 41.296875 42.84375 \nQ 37.203125 48.484375 30.078125 48.484375 \nQ 22.953125 48.484375 18.875 42.84375 \nQ 14.796875 37.203125 14.796875 27.296875 \nz\n\" id=\"DejaVuSans-100\"/>\n        <path d=\"M 56.203125 29.59375 \nL 56.203125 25.203125 \nL 14.890625 25.203125 \nQ 15.484375 15.921875 20.484375 11.0625 \nQ 25.484375 6.203125 34.421875 6.203125 \nQ 39.59375 6.203125 44.453125 7.46875 \nQ 49.3125 8.734375 54.109375 11.28125 \nL 54.109375 2.78125 \nQ 49.265625 0.734375 44.1875 -0.34375 \nQ 39.109375 -1.421875 33.890625 -1.421875 \nQ 20.796875 -1.421875 13.15625 6.1875 \nQ 5.515625 13.8125 5.515625 26.8125 \nQ 5.515625 40.234375 12.765625 48.109375 \nQ 20.015625 56 32.328125 56 \nQ 43.359375 56 49.78125 48.890625 \nQ 56.203125 41.796875 56.203125 29.59375 \nz\nM 47.21875 32.234375 \nQ 47.125 39.59375 43.09375 43.984375 \nQ 39.0625 48.390625 32.421875 48.390625 \nQ 24.90625 48.390625 20.390625 44.140625 \nQ 15.875 39.890625 15.1875 32.171875 \nz\n\" id=\"DejaVuSans-101\"/>\n        <path d=\"M 48.78125 52.59375 \nL 48.78125 44.1875 \nQ 44.96875 46.296875 41.140625 47.34375 \nQ 37.3125 48.390625 33.40625 48.390625 \nQ 24.65625 48.390625 19.8125 42.84375 \nQ 14.984375 37.3125 14.984375 27.296875 \nQ 14.984375 17.28125 19.8125 11.734375 \nQ 24.65625 6.203125 33.40625 6.203125 \nQ 37.3125 6.203125 41.140625 7.25 \nQ 44.96875 8.296875 48.78125 10.40625 \nL 48.78125 2.09375 \nQ 45.015625 0.34375 40.984375 -0.53125 \nQ 36.96875 -1.421875 32.421875 -1.421875 \nQ 20.0625 -1.421875 12.78125 6.34375 \nQ 5.515625 14.109375 5.515625 27.296875 \nQ 5.515625 40.671875 12.859375 48.328125 \nQ 20.21875 56 33.015625 56 \nQ 37.15625 56 41.109375 55.140625 \nQ 45.0625 54.296875 48.78125 52.59375 \nz\n\" id=\"DejaVuSans-99\"/>\n        <path d=\"M 9.421875 54.6875 \nL 18.40625 54.6875 \nL 18.40625 0 \nL 9.421875 0 \nz\nM 9.421875 75.984375 \nL 18.40625 75.984375 \nL 18.40625 64.59375 \nL 9.421875 64.59375 \nz\n\" id=\"DejaVuSans-105\"/>\n        <path d=\"M 44.28125 53.078125 \nL 44.28125 44.578125 \nQ 40.484375 46.53125 36.375 47.5 \nQ 32.28125 48.484375 27.875 48.484375 \nQ 21.1875 48.484375 17.84375 46.4375 \nQ 14.5 44.390625 14.5 40.28125 \nQ 14.5 37.15625 16.890625 35.375 \nQ 19.28125 33.59375 26.515625 31.984375 \nL 29.59375 31.296875 \nQ 39.15625 29.25 43.1875 25.515625 \nQ 47.21875 21.78125 47.21875 15.09375 \nQ 47.21875 7.46875 41.1875 3.015625 \nQ 35.15625 -1.421875 24.609375 -1.421875 \nQ 20.21875 -1.421875 15.453125 -0.5625 \nQ 10.6875 0.296875 5.421875 2 \nL 5.421875 11.28125 \nQ 10.40625 8.6875 15.234375 7.390625 \nQ 20.0625 6.109375 24.8125 6.109375 \nQ 31.15625 6.109375 34.5625 8.28125 \nQ 37.984375 10.453125 37.984375 14.40625 \nQ 37.984375 18.0625 35.515625 20.015625 \nQ 33.0625 21.96875 24.703125 23.78125 \nL 21.578125 24.515625 \nQ 13.234375 26.265625 9.515625 29.90625 \nQ 5.8125 33.546875 5.8125 39.890625 \nQ 5.8125 47.609375 11.28125 51.796875 \nQ 16.75 56 26.8125 56 \nQ 31.78125 56 36.171875 55.265625 \nQ 40.578125 54.546875 44.28125 53.078125 \nz\n\" id=\"DejaVuSans-115\"/>\n        <path d=\"M 30.609375 48.390625 \nQ 23.390625 48.390625 19.1875 42.75 \nQ 14.984375 37.109375 14.984375 27.296875 \nQ 14.984375 17.484375 19.15625 11.84375 \nQ 23.34375 6.203125 30.609375 6.203125 \nQ 37.796875 6.203125 41.984375 11.859375 \nQ 46.1875 17.53125 46.1875 27.296875 \nQ 46.1875 37.015625 41.984375 42.703125 \nQ 37.796875 48.390625 30.609375 48.390625 \nz\nM 30.609375 56 \nQ 42.328125 56 49.015625 48.375 \nQ 55.71875 40.765625 55.71875 27.296875 \nQ 55.71875 13.875 49.015625 6.21875 \nQ 42.328125 -1.421875 30.609375 -1.421875 \nQ 18.84375 -1.421875 12.171875 6.21875 \nQ 5.515625 13.875 5.515625 27.296875 \nQ 5.515625 40.765625 12.171875 48.375 \nQ 18.84375 56 30.609375 56 \nz\n\" id=\"DejaVuSans-111\"/>\n        <path d=\"M 54.890625 33.015625 \nL 54.890625 0 \nL 45.90625 0 \nL 45.90625 32.71875 \nQ 45.90625 40.484375 42.875 44.328125 \nQ 39.84375 48.1875 33.796875 48.1875 \nQ 26.515625 48.1875 22.3125 43.546875 \nQ 18.109375 38.921875 18.109375 30.90625 \nL 18.109375 0 \nL 9.078125 0 \nL 9.078125 54.6875 \nL 18.109375 54.6875 \nL 18.109375 46.1875 \nQ 21.34375 51.125 25.703125 53.5625 \nQ 30.078125 56 35.796875 56 \nQ 45.21875 56 50.046875 50.171875 \nQ 54.890625 44.34375 54.890625 33.015625 \nz\n\" id=\"DejaVuSans-110\"/>\n        <path id=\"DejaVuSans-32\"/>\n        <path d=\"M 18.3125 70.21875 \nL 18.3125 54.6875 \nL 36.8125 54.6875 \nL 36.8125 47.703125 \nL 18.3125 47.703125 \nL 18.3125 18.015625 \nQ 18.3125 11.328125 20.140625 9.421875 \nQ 21.96875 7.515625 27.59375 7.515625 \nL 36.8125 7.515625 \nL 36.8125 0 \nL 27.59375 0 \nQ 17.1875 0 13.234375 3.875 \nQ 9.28125 7.765625 9.28125 18.015625 \nL 9.28125 47.703125 \nL 2.6875 47.703125 \nL 2.6875 54.6875 \nL 9.28125 54.6875 \nL 9.28125 70.21875 \nz\n\" id=\"DejaVuSans-116\"/>\n        <path d=\"M 41.109375 46.296875 \nQ 39.59375 47.171875 37.8125 47.578125 \nQ 36.03125 48 33.890625 48 \nQ 26.265625 48 22.1875 43.046875 \nQ 18.109375 38.09375 18.109375 28.8125 \nL 18.109375 0 \nL 9.078125 0 \nL 9.078125 54.6875 \nL 18.109375 54.6875 \nL 18.109375 46.1875 \nQ 20.953125 51.171875 25.484375 53.578125 \nQ 30.03125 56 36.53125 56 \nQ 37.453125 56 38.578125 55.875 \nQ 39.703125 55.765625 41.0625 55.515625 \nz\n\" id=\"DejaVuSans-114\"/>\n       </defs>\n       <use xlink:href=\"#DejaVuSans-100\"/>\n       <use x=\"63.476562\" xlink:href=\"#DejaVuSans-101\"/>\n       <use x=\"125\" xlink:href=\"#DejaVuSans-99\"/>\n       <use x=\"179.980469\" xlink:href=\"#DejaVuSans-105\"/>\n       <use x=\"207.763672\" xlink:href=\"#DejaVuSans-115\"/>\n       <use x=\"259.863281\" xlink:href=\"#DejaVuSans-105\"/>\n       <use x=\"287.646484\" xlink:href=\"#DejaVuSans-111\"/>\n       <use x=\"348.828125\" xlink:href=\"#DejaVuSans-110\"/>\n       <use x=\"412.207031\" xlink:href=\"#DejaVuSans-32\"/>\n       <use x=\"443.994141\" xlink:href=\"#DejaVuSans-116\"/>\n       <use x=\"483.203125\" xlink:href=\"#DejaVuSans-114\"/>\n       <use x=\"522.066406\" xlink:href=\"#DejaVuSans-101\"/>\n       <use x=\"583.589844\" xlink:href=\"#DejaVuSans-101\"/>\n      </g>\n     </g>\n    </g>\n    <g id=\"xtick_2\">\n     <g id=\"line2d_2\">\n      <g>\n       <use style=\"stroke:#000000;stroke-width:0.8;\" x=\"212.732549\" xlink:href=\"#m5796b409a6\" y=\"457.718125\"/>\n      </g>\n     </g>\n     <g id=\"text_2\">\n      <!-- random forest -->\n      <g transform=\"translate(177.347392 472.316562)scale(0.1 -0.1)\">\n       <defs>\n        <path d=\"M 34.28125 27.484375 \nQ 23.390625 27.484375 19.1875 25 \nQ 14.984375 22.515625 14.984375 16.5 \nQ 14.984375 11.71875 18.140625 8.90625 \nQ 21.296875 6.109375 26.703125 6.109375 \nQ 34.1875 6.109375 38.703125 11.40625 \nQ 43.21875 16.703125 43.21875 25.484375 \nL 43.21875 27.484375 \nz\nM 52.203125 31.203125 \nL 52.203125 0 \nL 43.21875 0 \nL 43.21875 8.296875 \nQ 40.140625 3.328125 35.546875 0.953125 \nQ 30.953125 -1.421875 24.3125 -1.421875 \nQ 15.921875 -1.421875 10.953125 3.296875 \nQ 6 8.015625 6 15.921875 \nQ 6 25.140625 12.171875 29.828125 \nQ 18.359375 34.515625 30.609375 34.515625 \nL 43.21875 34.515625 \nL 43.21875 35.40625 \nQ 43.21875 41.609375 39.140625 45 \nQ 35.0625 48.390625 27.6875 48.390625 \nQ 23 48.390625 18.546875 47.265625 \nQ 14.109375 46.140625 10.015625 43.890625 \nL 10.015625 52.203125 \nQ 14.9375 54.109375 19.578125 55.046875 \nQ 24.21875 56 28.609375 56 \nQ 40.484375 56 46.34375 49.84375 \nQ 52.203125 43.703125 52.203125 31.203125 \nz\n\" id=\"DejaVuSans-97\"/>\n        <path d=\"M 52 44.1875 \nQ 55.375 50.25 60.0625 53.125 \nQ 64.75 56 71.09375 56 \nQ 79.640625 56 84.28125 50.015625 \nQ 88.921875 44.046875 88.921875 33.015625 \nL 88.921875 0 \nL 79.890625 0 \nL 79.890625 32.71875 \nQ 79.890625 40.578125 77.09375 44.375 \nQ 74.3125 48.1875 68.609375 48.1875 \nQ 61.625 48.1875 57.5625 43.546875 \nQ 53.515625 38.921875 53.515625 30.90625 \nL 53.515625 0 \nL 44.484375 0 \nL 44.484375 32.71875 \nQ 44.484375 40.625 41.703125 44.40625 \nQ 38.921875 48.1875 33.109375 48.1875 \nQ 26.21875 48.1875 22.15625 43.53125 \nQ 18.109375 38.875 18.109375 30.90625 \nL 18.109375 0 \nL 9.078125 0 \nL 9.078125 54.6875 \nL 18.109375 54.6875 \nL 18.109375 46.1875 \nQ 21.1875 51.21875 25.484375 53.609375 \nQ 29.78125 56 35.6875 56 \nQ 41.65625 56 45.828125 52.96875 \nQ 50 49.953125 52 44.1875 \nz\n\" id=\"DejaVuSans-109\"/>\n        <path d=\"M 37.109375 75.984375 \nL 37.109375 68.5 \nL 28.515625 68.5 \nQ 23.6875 68.5 21.796875 66.546875 \nQ 19.921875 64.59375 19.921875 59.515625 \nL 19.921875 54.6875 \nL 34.71875 54.6875 \nL 34.71875 47.703125 \nL 19.921875 47.703125 \nL 19.921875 0 \nL 10.890625 0 \nL 10.890625 47.703125 \nL 2.296875 47.703125 \nL 2.296875 54.6875 \nL 10.890625 54.6875 \nL 10.890625 58.5 \nQ 10.890625 67.625 15.140625 71.796875 \nQ 19.390625 75.984375 28.609375 75.984375 \nz\n\" id=\"DejaVuSans-102\"/>\n       </defs>\n       <use xlink:href=\"#DejaVuSans-114\"/>\n       <use x=\"41.113281\" xlink:href=\"#DejaVuSans-97\"/>\n       <use x=\"102.392578\" xlink:href=\"#DejaVuSans-110\"/>\n       <use x=\"165.771484\" xlink:href=\"#DejaVuSans-100\"/>\n       <use x=\"229.248047\" xlink:href=\"#DejaVuSans-111\"/>\n       <use x=\"290.429688\" xlink:href=\"#DejaVuSans-109\"/>\n       <use x=\"387.841797\" xlink:href=\"#DejaVuSans-32\"/>\n       <use x=\"419.628906\" xlink:href=\"#DejaVuSans-102\"/>\n       <use x=\"454.833984\" xlink:href=\"#DejaVuSans-111\"/>\n       <use x=\"516.015625\" xlink:href=\"#DejaVuSans-114\"/>\n       <use x=\"554.878906\" xlink:href=\"#DejaVuSans-101\"/>\n       <use x=\"616.402344\" xlink:href=\"#DejaVuSans-115\"/>\n       <use x=\"668.501953\" xlink:href=\"#DejaVuSans-116\"/>\n      </g>\n     </g>\n    </g>\n    <g id=\"xtick_3\">\n     <g id=\"line2d_3\">\n      <g>\n       <use style=\"stroke:#000000;stroke-width:0.8;\" x=\"326.829951\" xlink:href=\"#m5796b409a6\" y=\"457.718125\"/>\n      </g>\n     </g>\n     <g id=\"text_3\">\n      <!-- logistic regression -->\n      <g transform=\"translate(281.486201 472.316562)scale(0.1 -0.1)\">\n       <defs>\n        <path d=\"M 9.421875 75.984375 \nL 18.40625 75.984375 \nL 18.40625 0 \nL 9.421875 0 \nz\n\" id=\"DejaVuSans-108\"/>\n        <path d=\"M 45.40625 27.984375 \nQ 45.40625 37.75 41.375 43.109375 \nQ 37.359375 48.484375 30.078125 48.484375 \nQ 22.859375 48.484375 18.828125 43.109375 \nQ 14.796875 37.75 14.796875 27.984375 \nQ 14.796875 18.265625 18.828125 12.890625 \nQ 22.859375 7.515625 30.078125 7.515625 \nQ 37.359375 7.515625 41.375 12.890625 \nQ 45.40625 18.265625 45.40625 27.984375 \nz\nM 54.390625 6.78125 \nQ 54.390625 -7.171875 48.1875 -13.984375 \nQ 42 -20.796875 29.203125 -20.796875 \nQ 24.46875 -20.796875 20.265625 -20.09375 \nQ 16.0625 -19.390625 12.109375 -17.921875 \nL 12.109375 -9.1875 \nQ 16.0625 -11.328125 19.921875 -12.34375 \nQ 23.78125 -13.375 27.78125 -13.375 \nQ 36.625 -13.375 41.015625 -8.765625 \nQ 45.40625 -4.15625 45.40625 5.171875 \nL 45.40625 9.625 \nQ 42.625 4.78125 38.28125 2.390625 \nQ 33.9375 0 27.875 0 \nQ 17.828125 0 11.671875 7.65625 \nQ 5.515625 15.328125 5.515625 27.984375 \nQ 5.515625 40.671875 11.671875 48.328125 \nQ 17.828125 56 27.875 56 \nQ 33.9375 56 38.28125 53.609375 \nQ 42.625 51.21875 45.40625 46.390625 \nL 45.40625 54.6875 \nL 54.390625 54.6875 \nz\n\" id=\"DejaVuSans-103\"/>\n       </defs>\n       <use xlink:href=\"#DejaVuSans-108\"/>\n       <use x=\"27.783203\" xlink:href=\"#DejaVuSans-111\"/>\n       <use x=\"88.964844\" xlink:href=\"#DejaVuSans-103\"/>\n       <use x=\"152.441406\" xlink:href=\"#DejaVuSans-105\"/>\n       <use x=\"180.224609\" xlink:href=\"#DejaVuSans-115\"/>\n       <use x=\"232.324219\" xlink:href=\"#DejaVuSans-116\"/>\n       <use x=\"271.533203\" xlink:href=\"#DejaVuSans-105\"/>\n       <use x=\"299.316406\" xlink:href=\"#DejaVuSans-99\"/>\n       <use x=\"354.296875\" xlink:href=\"#DejaVuSans-32\"/>\n       <use x=\"386.083984\" xlink:href=\"#DejaVuSans-114\"/>\n       <use x=\"424.947266\" xlink:href=\"#DejaVuSans-101\"/>\n       <use x=\"486.470703\" xlink:href=\"#DejaVuSans-103\"/>\n       <use x=\"549.947266\" xlink:href=\"#DejaVuSans-114\"/>\n       <use x=\"588.810547\" xlink:href=\"#DejaVuSans-101\"/>\n       <use x=\"650.333984\" xlink:href=\"#DejaVuSans-115\"/>\n       <use x=\"702.433594\" xlink:href=\"#DejaVuSans-115\"/>\n       <use x=\"754.533203\" xlink:href=\"#DejaVuSans-105\"/>\n       <use x=\"782.316406\" xlink:href=\"#DejaVuSans-111\"/>\n       <use x=\"843.498047\" xlink:href=\"#DejaVuSans-110\"/>\n      </g>\n     </g>\n    </g>\n    <g id=\"xtick_4\">\n     <g id=\"line2d_4\">\n      <g>\n       <use style=\"stroke:#000000;stroke-width:0.8;\" x=\"440.927354\" xlink:href=\"#m5796b409a6\" y=\"457.718125\"/>\n      </g>\n     </g>\n     <g id=\"text_4\">\n      <!-- gbt classifier -->\n      <g transform=\"translate(408.947666 472.316562)scale(0.1 -0.1)\">\n       <defs>\n        <path d=\"M 48.6875 27.296875 \nQ 48.6875 37.203125 44.609375 42.84375 \nQ 40.53125 48.484375 33.40625 48.484375 \nQ 26.265625 48.484375 22.1875 42.84375 \nQ 18.109375 37.203125 18.109375 27.296875 \nQ 18.109375 17.390625 22.1875 11.75 \nQ 26.265625 6.109375 33.40625 6.109375 \nQ 40.53125 6.109375 44.609375 11.75 \nQ 48.6875 17.390625 48.6875 27.296875 \nz\nM 18.109375 46.390625 \nQ 20.953125 51.265625 25.265625 53.625 \nQ 29.59375 56 35.59375 56 \nQ 45.5625 56 51.78125 48.09375 \nQ 58.015625 40.1875 58.015625 27.296875 \nQ 58.015625 14.40625 51.78125 6.484375 \nQ 45.5625 -1.421875 35.59375 -1.421875 \nQ 29.59375 -1.421875 25.265625 0.953125 \nQ 20.953125 3.328125 18.109375 8.203125 \nL 18.109375 0 \nL 9.078125 0 \nL 9.078125 75.984375 \nL 18.109375 75.984375 \nz\n\" id=\"DejaVuSans-98\"/>\n       </defs>\n       <use xlink:href=\"#DejaVuSans-103\"/>\n       <use x=\"63.476562\" xlink:href=\"#DejaVuSans-98\"/>\n       <use x=\"126.953125\" xlink:href=\"#DejaVuSans-116\"/>\n       <use x=\"166.162109\" xlink:href=\"#DejaVuSans-32\"/>\n       <use x=\"197.949219\" xlink:href=\"#DejaVuSans-99\"/>\n       <use x=\"252.929688\" xlink:href=\"#DejaVuSans-108\"/>\n       <use x=\"280.712891\" xlink:href=\"#DejaVuSans-97\"/>\n       <use x=\"341.992188\" xlink:href=\"#DejaVuSans-115\"/>\n       <use x=\"394.091797\" xlink:href=\"#DejaVuSans-115\"/>\n       <use x=\"446.191406\" xlink:href=\"#DejaVuSans-105\"/>\n       <use x=\"473.974609\" xlink:href=\"#DejaVuSans-102\"/>\n       <use x=\"509.179688\" xlink:href=\"#DejaVuSans-105\"/>\n       <use x=\"536.962891\" xlink:href=\"#DejaVuSans-101\"/>\n       <use x=\"598.486328\" xlink:href=\"#DejaVuSans-114\"/>\n      </g>\n     </g>\n    </g>\n    <g id=\"text_5\">\n     <!-- model -->\n     <g transform=\"translate(254.211719 485.994687)scale(0.1 -0.1)\">\n      <use xlink:href=\"#DejaVuSans-109\"/>\n      <use x=\"97.412109\" xlink:href=\"#DejaVuSans-111\"/>\n      <use x=\"158.59375\" xlink:href=\"#DejaVuSans-100\"/>\n      <use x=\"222.070312\" xlink:href=\"#DejaVuSans-101\"/>\n      <use x=\"283.59375\" xlink:href=\"#DejaVuSans-108\"/>\n     </g>\n    </g>\n   </g>\n   <g id=\"matplotlib.axis_2\">\n    <g id=\"ytick_1\">\n     <g id=\"line2d_5\">\n      <defs>\n       <path d=\"M 0 0 \nL -3.5 0 \n\" id=\"m072e4280de\" style=\"stroke:#000000;stroke-width:0.8;\"/>\n      </defs>\n      <g>\n       <use style=\"stroke:#000000;stroke-width:0.8;\" x=\"50.14375\" xlink:href=\"#m072e4280de\" y=\"457.718125\"/>\n      </g>\n     </g>\n     <g id=\"text_6\">\n      <!-- 0.80 -->\n      <g transform=\"translate(20.878125 461.517344)scale(0.1 -0.1)\">\n       <defs>\n        <path d=\"M 31.78125 66.40625 \nQ 24.171875 66.40625 20.328125 58.90625 \nQ 16.5 51.421875 16.5 36.375 \nQ 16.5 21.390625 20.328125 13.890625 \nQ 24.171875 6.390625 31.78125 6.390625 \nQ 39.453125 6.390625 43.28125 13.890625 \nQ 47.125 21.390625 47.125 36.375 \nQ 47.125 51.421875 43.28125 58.90625 \nQ 39.453125 66.40625 31.78125 66.40625 \nz\nM 31.78125 74.21875 \nQ 44.046875 74.21875 50.515625 64.515625 \nQ 56.984375 54.828125 56.984375 36.375 \nQ 56.984375 17.96875 50.515625 8.265625 \nQ 44.046875 -1.421875 31.78125 -1.421875 \nQ 19.53125 -1.421875 13.0625 8.265625 \nQ 6.59375 17.96875 6.59375 36.375 \nQ 6.59375 54.828125 13.0625 64.515625 \nQ 19.53125 74.21875 31.78125 74.21875 \nz\n\" id=\"DejaVuSans-48\"/>\n        <path d=\"M 10.6875 12.40625 \nL 21 12.40625 \nL 21 0 \nL 10.6875 0 \nz\n\" id=\"DejaVuSans-46\"/>\n        <path d=\"M 31.78125 34.625 \nQ 24.75 34.625 20.71875 30.859375 \nQ 16.703125 27.09375 16.703125 20.515625 \nQ 16.703125 13.921875 20.71875 10.15625 \nQ 24.75 6.390625 31.78125 6.390625 \nQ 38.8125 6.390625 42.859375 10.171875 \nQ 46.921875 13.96875 46.921875 20.515625 \nQ 46.921875 27.09375 42.890625 30.859375 \nQ 38.875 34.625 31.78125 34.625 \nz\nM 21.921875 38.8125 \nQ 15.578125 40.375 12.03125 44.71875 \nQ 8.5 49.078125 8.5 55.328125 \nQ 8.5 64.0625 14.71875 69.140625 \nQ 20.953125 74.21875 31.78125 74.21875 \nQ 42.671875 74.21875 48.875 69.140625 \nQ 55.078125 64.0625 55.078125 55.328125 \nQ 55.078125 49.078125 51.53125 44.71875 \nQ 48 40.375 41.703125 38.8125 \nQ 48.828125 37.15625 52.796875 32.3125 \nQ 56.78125 27.484375 56.78125 20.515625 \nQ 56.78125 9.90625 50.3125 4.234375 \nQ 43.84375 -1.421875 31.78125 -1.421875 \nQ 19.734375 -1.421875 13.25 4.234375 \nQ 6.78125 9.90625 6.78125 20.515625 \nQ 6.78125 27.484375 10.78125 32.3125 \nQ 14.796875 37.15625 21.921875 38.8125 \nz\nM 18.3125 54.390625 \nQ 18.3125 48.734375 21.84375 45.5625 \nQ 25.390625 42.390625 31.78125 42.390625 \nQ 38.140625 42.390625 41.71875 45.5625 \nQ 45.3125 48.734375 45.3125 54.390625 \nQ 45.3125 60.0625 41.71875 63.234375 \nQ 38.140625 66.40625 31.78125 66.40625 \nQ 25.390625 66.40625 21.84375 63.234375 \nQ 18.3125 60.0625 18.3125 54.390625 \nz\n\" id=\"DejaVuSans-56\"/>\n       </defs>\n       <use xlink:href=\"#DejaVuSans-48\"/>\n       <use x=\"63.623047\" xlink:href=\"#DejaVuSans-46\"/>\n       <use x=\"95.410156\" xlink:href=\"#DejaVuSans-56\"/>\n       <use x=\"159.033203\" xlink:href=\"#DejaVuSans-48\"/>\n      </g>\n     </g>\n    </g>\n    <g id=\"ytick_2\">\n     <g id=\"line2d_6\">\n      <g>\n       <use style=\"stroke:#000000;stroke-width:0.8;\" x=\"50.14375\" xlink:href=\"#m072e4280de\" y=\"370.638125\"/>\n      </g>\n     </g>\n     <g id=\"text_7\">\n      <!-- 0.81 -->\n      <g transform=\"translate(20.878125 374.437344)scale(0.1 -0.1)\">\n       <defs>\n        <path d=\"M 12.40625 8.296875 \nL 28.515625 8.296875 \nL 28.515625 63.921875 \nL 10.984375 60.40625 \nL 10.984375 69.390625 \nL 28.421875 72.90625 \nL 38.28125 72.90625 \nL 38.28125 8.296875 \nL 54.390625 8.296875 \nL 54.390625 0 \nL 12.40625 0 \nz\n\" id=\"DejaVuSans-49\"/>\n       </defs>\n       <use xlink:href=\"#DejaVuSans-48\"/>\n       <use x=\"63.623047\" xlink:href=\"#DejaVuSans-46\"/>\n       <use x=\"95.410156\" xlink:href=\"#DejaVuSans-56\"/>\n       <use x=\"159.033203\" xlink:href=\"#DejaVuSans-49\"/>\n      </g>\n     </g>\n    </g>\n    <g id=\"ytick_3\">\n     <g id=\"line2d_7\">\n      <g>\n       <use style=\"stroke:#000000;stroke-width:0.8;\" x=\"50.14375\" xlink:href=\"#m072e4280de\" y=\"283.558125\"/>\n      </g>\n     </g>\n     <g id=\"text_8\">\n      <!-- 0.82 -->\n      <g transform=\"translate(20.878125 287.357344)scale(0.1 -0.1)\">\n       <defs>\n        <path d=\"M 19.1875 8.296875 \nL 53.609375 8.296875 \nL 53.609375 0 \nL 7.328125 0 \nL 7.328125 8.296875 \nQ 12.9375 14.109375 22.625 23.890625 \nQ 32.328125 33.6875 34.8125 36.53125 \nQ 39.546875 41.84375 41.421875 45.53125 \nQ 43.3125 49.21875 43.3125 52.78125 \nQ 43.3125 58.59375 39.234375 62.25 \nQ 35.15625 65.921875 28.609375 65.921875 \nQ 23.96875 65.921875 18.8125 64.3125 \nQ 13.671875 62.703125 7.8125 59.421875 \nL 7.8125 69.390625 \nQ 13.765625 71.78125 18.9375 73 \nQ 24.125 74.21875 28.421875 74.21875 \nQ 39.75 74.21875 46.484375 68.546875 \nQ 53.21875 62.890625 53.21875 53.421875 \nQ 53.21875 48.921875 51.53125 44.890625 \nQ 49.859375 40.875 45.40625 35.40625 \nQ 44.1875 33.984375 37.640625 27.21875 \nQ 31.109375 20.453125 19.1875 8.296875 \nz\n\" id=\"DejaVuSans-50\"/>\n       </defs>\n       <use xlink:href=\"#DejaVuSans-48\"/>\n       <use x=\"63.623047\" xlink:href=\"#DejaVuSans-46\"/>\n       <use x=\"95.410156\" xlink:href=\"#DejaVuSans-56\"/>\n       <use x=\"159.033203\" xlink:href=\"#DejaVuSans-50\"/>\n      </g>\n     </g>\n    </g>\n    <g id=\"ytick_4\">\n     <g id=\"line2d_8\">\n      <g>\n       <use style=\"stroke:#000000;stroke-width:0.8;\" x=\"50.14375\" xlink:href=\"#m072e4280de\" y=\"196.478125\"/>\n      </g>\n     </g>\n     <g id=\"text_9\">\n      <!-- 0.83 -->\n      <g transform=\"translate(20.878125 200.277344)scale(0.1 -0.1)\">\n       <defs>\n        <path d=\"M 40.578125 39.3125 \nQ 47.65625 37.796875 51.625 33 \nQ 55.609375 28.21875 55.609375 21.1875 \nQ 55.609375 10.40625 48.1875 4.484375 \nQ 40.765625 -1.421875 27.09375 -1.421875 \nQ 22.515625 -1.421875 17.65625 -0.515625 \nQ 12.796875 0.390625 7.625 2.203125 \nL 7.625 11.71875 \nQ 11.71875 9.328125 16.59375 8.109375 \nQ 21.484375 6.890625 26.8125 6.890625 \nQ 36.078125 6.890625 40.9375 10.546875 \nQ 45.796875 14.203125 45.796875 21.1875 \nQ 45.796875 27.640625 41.28125 31.265625 \nQ 36.765625 34.90625 28.71875 34.90625 \nL 20.21875 34.90625 \nL 20.21875 43.015625 \nL 29.109375 43.015625 \nQ 36.375 43.015625 40.234375 45.921875 \nQ 44.09375 48.828125 44.09375 54.296875 \nQ 44.09375 59.90625 40.109375 62.90625 \nQ 36.140625 65.921875 28.71875 65.921875 \nQ 24.65625 65.921875 20.015625 65.03125 \nQ 15.375 64.15625 9.8125 62.3125 \nL 9.8125 71.09375 \nQ 15.4375 72.65625 20.34375 73.4375 \nQ 25.25 74.21875 29.59375 74.21875 \nQ 40.828125 74.21875 47.359375 69.109375 \nQ 53.90625 64.015625 53.90625 55.328125 \nQ 53.90625 49.265625 50.4375 45.09375 \nQ 46.96875 40.921875 40.578125 39.3125 \nz\n\" id=\"DejaVuSans-51\"/>\n       </defs>\n       <use xlink:href=\"#DejaVuSans-48\"/>\n       <use x=\"63.623047\" xlink:href=\"#DejaVuSans-46\"/>\n       <use x=\"95.410156\" xlink:href=\"#DejaVuSans-56\"/>\n       <use x=\"159.033203\" xlink:href=\"#DejaVuSans-51\"/>\n      </g>\n     </g>\n    </g>\n    <g id=\"ytick_5\">\n     <g id=\"line2d_9\">\n      <g>\n       <use style=\"stroke:#000000;stroke-width:0.8;\" x=\"50.14375\" xlink:href=\"#m072e4280de\" y=\"109.398125\"/>\n      </g>\n     </g>\n     <g id=\"text_10\">\n      <!-- 0.84 -->\n      <g transform=\"translate(20.878125 113.197344)scale(0.1 -0.1)\">\n       <defs>\n        <path d=\"M 37.796875 64.3125 \nL 12.890625 25.390625 \nL 37.796875 25.390625 \nz\nM 35.203125 72.90625 \nL 47.609375 72.90625 \nL 47.609375 25.390625 \nL 58.015625 25.390625 \nL 58.015625 17.1875 \nL 47.609375 17.1875 \nL 47.609375 0 \nL 37.796875 0 \nL 37.796875 17.1875 \nL 4.890625 17.1875 \nL 4.890625 26.703125 \nz\n\" id=\"DejaVuSans-52\"/>\n       </defs>\n       <use xlink:href=\"#DejaVuSans-48\"/>\n       <use x=\"63.623047\" xlink:href=\"#DejaVuSans-46\"/>\n       <use x=\"95.410156\" xlink:href=\"#DejaVuSans-56\"/>\n       <use x=\"159.033203\" xlink:href=\"#DejaVuSans-52\"/>\n      </g>\n     </g>\n    </g>\n    <g id=\"ytick_6\">\n     <g id=\"line2d_10\">\n      <g>\n       <use style=\"stroke:#000000;stroke-width:0.8;\" x=\"50.14375\" xlink:href=\"#m072e4280de\" y=\"22.318125\"/>\n      </g>\n     </g>\n     <g id=\"text_11\">\n      <!-- 0.85 -->\n      <g transform=\"translate(20.878125 26.117344)scale(0.1 -0.1)\">\n       <defs>\n        <path d=\"M 10.796875 72.90625 \nL 49.515625 72.90625 \nL 49.515625 64.59375 \nL 19.828125 64.59375 \nL 19.828125 46.734375 \nQ 21.96875 47.46875 24.109375 47.828125 \nQ 26.265625 48.1875 28.421875 48.1875 \nQ 40.625 48.1875 47.75 41.5 \nQ 54.890625 34.8125 54.890625 23.390625 \nQ 54.890625 11.625 47.5625 5.09375 \nQ 40.234375 -1.421875 26.90625 -1.421875 \nQ 22.3125 -1.421875 17.546875 -0.640625 \nQ 12.796875 0.140625 7.71875 1.703125 \nL 7.71875 11.625 \nQ 12.109375 9.234375 16.796875 8.0625 \nQ 21.484375 6.890625 26.703125 6.890625 \nQ 35.15625 6.890625 40.078125 11.328125 \nQ 45.015625 15.765625 45.015625 23.390625 \nQ 45.015625 31 40.078125 35.4375 \nQ 35.15625 39.890625 26.703125 39.890625 \nQ 22.75 39.890625 18.8125 39.015625 \nQ 14.890625 38.140625 10.796875 36.28125 \nz\n\" id=\"DejaVuSans-53\"/>\n       </defs>\n       <use xlink:href=\"#DejaVuSans-48\"/>\n       <use x=\"63.623047\" xlink:href=\"#DejaVuSans-46\"/>\n       <use x=\"95.410156\" xlink:href=\"#DejaVuSans-56\"/>\n       <use x=\"159.033203\" xlink:href=\"#DejaVuSans-53\"/>\n      </g>\n     </g>\n    </g>\n    <g id=\"text_12\">\n     <!-- accuracy -->\n     <g transform=\"translate(14.798438 262.5775)rotate(-90)scale(0.1 -0.1)\">\n      <defs>\n       <path d=\"M 8.5 21.578125 \nL 8.5 54.6875 \nL 17.484375 54.6875 \nL 17.484375 21.921875 \nQ 17.484375 14.15625 20.5 10.265625 \nQ 23.53125 6.390625 29.59375 6.390625 \nQ 36.859375 6.390625 41.078125 11.03125 \nQ 45.3125 15.671875 45.3125 23.6875 \nL 45.3125 54.6875 \nL 54.296875 54.6875 \nL 54.296875 0 \nL 45.3125 0 \nL 45.3125 8.40625 \nQ 42.046875 3.421875 37.71875 1 \nQ 33.40625 -1.421875 27.6875 -1.421875 \nQ 18.265625 -1.421875 13.375 4.4375 \nQ 8.5 10.296875 8.5 21.578125 \nz\nM 31.109375 56 \nz\n\" id=\"DejaVuSans-117\"/>\n       <path d=\"M 32.171875 -5.078125 \nQ 28.375 -14.84375 24.75 -17.8125 \nQ 21.140625 -20.796875 15.09375 -20.796875 \nL 7.90625 -20.796875 \nL 7.90625 -13.28125 \nL 13.1875 -13.28125 \nQ 16.890625 -13.28125 18.9375 -11.515625 \nQ 21 -9.765625 23.484375 -3.21875 \nL 25.09375 0.875 \nL 2.984375 54.6875 \nL 12.5 54.6875 \nL 29.59375 11.921875 \nL 46.6875 54.6875 \nL 56.203125 54.6875 \nz\n\" id=\"DejaVuSans-121\"/>\n      </defs>\n      <use xlink:href=\"#DejaVuSans-97\"/>\n      <use x=\"61.279297\" xlink:href=\"#DejaVuSans-99\"/>\n      <use x=\"116.259766\" xlink:href=\"#DejaVuSans-99\"/>\n      <use x=\"171.240234\" xlink:href=\"#DejaVuSans-117\"/>\n      <use x=\"234.619141\" xlink:href=\"#DejaVuSans-114\"/>\n      <use x=\"275.732422\" xlink:href=\"#DejaVuSans-97\"/>\n      <use x=\"337.011719\" xlink:href=\"#DejaVuSans-99\"/>\n      <use x=\"391.992188\" xlink:href=\"#DejaVuSans-121\"/>\n     </g>\n    </g>\n   </g>\n   <g id=\"patch_7\">\n    <path d=\"M 50.14375 457.718125 \nL 50.14375 22.318125 \n\" style=\"fill:none;stroke:#000000;stroke-linecap:square;stroke-linejoin:miter;stroke-width:0.8;\"/>\n   </g>\n   <g id=\"patch_8\">\n    <path d=\"M 489.41875 457.718125 \nL 489.41875 22.318125 \n\" style=\"fill:none;stroke:#000000;stroke-linecap:square;stroke-linejoin:miter;stroke-width:0.8;\"/>\n   </g>\n   <g id=\"patch_9\">\n    <path d=\"M 50.14375 457.718125 \nL 489.41875 457.718125 \n\" style=\"fill:none;stroke:#000000;stroke-linecap:square;stroke-linejoin:miter;stroke-width:0.8;\"/>\n   </g>\n   <g id=\"patch_10\">\n    <path d=\"M 50.14375 22.318125 \nL 489.41875 22.318125 \n\" style=\"fill:none;stroke:#000000;stroke-linecap:square;stroke-linejoin:miter;stroke-width:0.8;\"/>\n   </g>\n   <g id=\"text_13\">\n    <!-- The accuracy calculated from models -->\n    <g transform=\"translate(157.21375 16.318125)scale(0.12 -0.12)\">\n     <defs>\n      <path d=\"M -0.296875 72.90625 \nL 61.375 72.90625 \nL 61.375 64.59375 \nL 35.5 64.59375 \nL 35.5 0 \nL 25.59375 0 \nL 25.59375 64.59375 \nL -0.296875 64.59375 \nz\n\" id=\"DejaVuSans-84\"/>\n      <path d=\"M 54.890625 33.015625 \nL 54.890625 0 \nL 45.90625 0 \nL 45.90625 32.71875 \nQ 45.90625 40.484375 42.875 44.328125 \nQ 39.84375 48.1875 33.796875 48.1875 \nQ 26.515625 48.1875 22.3125 43.546875 \nQ 18.109375 38.921875 18.109375 30.90625 \nL 18.109375 0 \nL 9.078125 0 \nL 9.078125 75.984375 \nL 18.109375 75.984375 \nL 18.109375 46.1875 \nQ 21.34375 51.125 25.703125 53.5625 \nQ 30.078125 56 35.796875 56 \nQ 45.21875 56 50.046875 50.171875 \nQ 54.890625 44.34375 54.890625 33.015625 \nz\n\" id=\"DejaVuSans-104\"/>\n     </defs>\n     <use xlink:href=\"#DejaVuSans-84\"/>\n     <use x=\"61.083984\" xlink:href=\"#DejaVuSans-104\"/>\n     <use x=\"124.462891\" xlink:href=\"#DejaVuSans-101\"/>\n     <use x=\"185.986328\" xlink:href=\"#DejaVuSans-32\"/>\n     <use x=\"217.773438\" xlink:href=\"#DejaVuSans-97\"/>\n     <use x=\"279.052734\" xlink:href=\"#DejaVuSans-99\"/>\n     <use x=\"334.033203\" xlink:href=\"#DejaVuSans-99\"/>\n     <use x=\"389.013672\" xlink:href=\"#DejaVuSans-117\"/>\n     <use x=\"452.392578\" xlink:href=\"#DejaVuSans-114\"/>\n     <use x=\"493.505859\" xlink:href=\"#DejaVuSans-97\"/>\n     <use x=\"554.785156\" xlink:href=\"#DejaVuSans-99\"/>\n     <use x=\"609.765625\" xlink:href=\"#DejaVuSans-121\"/>\n     <use x=\"668.945312\" xlink:href=\"#DejaVuSans-32\"/>\n     <use x=\"700.732422\" xlink:href=\"#DejaVuSans-99\"/>\n     <use x=\"755.712891\" xlink:href=\"#DejaVuSans-97\"/>\n     <use x=\"816.992188\" xlink:href=\"#DejaVuSans-108\"/>\n     <use x=\"844.775391\" xlink:href=\"#DejaVuSans-99\"/>\n     <use x=\"899.755859\" xlink:href=\"#DejaVuSans-117\"/>\n     <use x=\"963.134766\" xlink:href=\"#DejaVuSans-108\"/>\n     <use x=\"990.917969\" xlink:href=\"#DejaVuSans-97\"/>\n     <use x=\"1052.197266\" xlink:href=\"#DejaVuSans-116\"/>\n     <use x=\"1091.40625\" xlink:href=\"#DejaVuSans-101\"/>\n     <use x=\"1152.929688\" xlink:href=\"#DejaVuSans-100\"/>\n     <use x=\"1216.40625\" xlink:href=\"#DejaVuSans-32\"/>\n     <use x=\"1248.193359\" xlink:href=\"#DejaVuSans-102\"/>\n     <use x=\"1283.398438\" xlink:href=\"#DejaVuSans-114\"/>\n     <use x=\"1322.261719\" xlink:href=\"#DejaVuSans-111\"/>\n     <use x=\"1383.443359\" xlink:href=\"#DejaVuSans-109\"/>\n     <use x=\"1480.855469\" xlink:href=\"#DejaVuSans-32\"/>\n     <use x=\"1512.642578\" xlink:href=\"#DejaVuSans-109\"/>\n     <use x=\"1610.054688\" xlink:href=\"#DejaVuSans-111\"/>\n     <use x=\"1671.236328\" xlink:href=\"#DejaVuSans-100\"/>\n     <use x=\"1734.712891\" xlink:href=\"#DejaVuSans-101\"/>\n     <use x=\"1796.236328\" xlink:href=\"#DejaVuSans-108\"/>\n     <use x=\"1824.019531\" xlink:href=\"#DejaVuSans-115\"/>\n    </g>\n   </g>\n  </g>\n </g>\n <defs>\n  <clipPath id=\"p3293ff7b84\">\n   <rect height=\"435.4\" width=\"439.275\" x=\"50.14375\" y=\"22.318125\"/>\n  </clipPath>\n </defs>\n</svg>\n",
      "image/png": "[encoded data removed]"
     },
     "metadata": {
      "needs_background": "light"
     }
    }
   ],
   "source": [
    "# Prepare the data\n",
    "accuracy = [dt_accuracy, rf_accuracy, lr_accuracy, gbt_accuracy]\n",
    "model = ['decision tree', 'random forest', 'logistic regression', 'gbt classifier']\n",
    "width = 0.5\n",
    "\n",
    "# Plot the data\n",
    "plt.figure(figsize = (7,7))\n",
    "plt.bar(model, accuracy, width, align = 'center', color = 'blue')\n",
    "\n",
    "plt.xticks(model)\n",
    "plt.ylim(0.8, 0.85)\n",
    "plt.xlabel('model')\n",
    "plt.ylabel('accuracy')\n",
    "plt.title('The accuracy calculated from models')\n",
    "plt.tight_layout()\n",
    "plt.show()"
   ]
  },
  {
   "cell_type": "markdown",
   "metadata": {},
   "source": [
    "## Step 9: Calculate the confusion matrix and find the precision, recall and F1 score of each classification algorithm. Explain how the accuracy of the prediction can be improved? "
   ]
  },
  {
   "cell_type": "code",
   "execution_count": 47,
   "metadata": {},
   "outputs": [],
   "source": [
    "# Build the function to calculate the precision, recall and F1 score from the confusion matrix\n",
    "def calculate_rates(confusion_matrix):\n",
    "    def calculate_precision(confusion_matrix):\n",
    "        return confusion_matrix[1][1]/(confusion_matrix[1][0] + confusion_matrix[1][1])\n",
    "    def calculate_recall(confusion_matrix):\n",
    "        return confusion_matrix[1][1]/(confusion_matrix[0][1] + confusion_matrix[1][1])\n",
    "    def calculate_f1_score(confusion_matrix):\n",
    "        return (2*calculate_precision(confusion_matrix)*calculate_recall(confusion_matrix))/\\\n",
    "    (calculate_precision(confusion_matrix) + calculate_recall(confusion_matrix))\n",
    "    return calculate_precision(confusion_matrix), calculate_recall(confusion_matrix), calculate_f1_score(confusion_matrix)"
   ]
  },
  {
   "cell_type": "code",
   "execution_count": 48,
   "metadata": {},
   "outputs": [],
   "source": [
    "# The list of rates\n",
    "rates = ['Precision', 'Recall', 'F1 Score']"
   ]
  },
  {
   "cell_type": "markdown",
   "metadata": {},
   "source": [
    "### 9.1. Calculate the confusion matrix of decision tree classifier "
   ]
  },
  {
   "cell_type": "code",
   "execution_count": 49,
   "metadata": {},
   "outputs": [
    {
     "output_type": "execute_result",
     "data": {
      "text/plain": [
       "array([[31362.,  5180.],\n",
       "       [ 1902.,  4341.]])"
      ]
     },
     "metadata": {},
     "execution_count": 49
    }
   ],
   "source": [
    "# Create the confusion matrix including actual values and predicted values of RainTomorrow_index of Decision Tree Classifier\n",
    "sub_predictions = dt_predictions.select(['RainTomorrow_index', 'prediction'])\n",
    "sub_predictions = sub_predictions.rdd.map(tuple)\n",
    "dt_metrics = MulticlassMetrics(sub_predictions)\n",
    "dt_confusion_mat = dt_metrics.confusionMatrix()\n",
    "dt_confusion_mat = dt_confusion_mat.toArray()\n",
    "dt_confusion_mat"
   ]
  },
  {
   "cell_type": "code",
   "execution_count": 50,
   "metadata": {},
   "outputs": [
    {
     "output_type": "stream",
     "name": "stdout",
     "text": [
      "The Precision of the Decision Tree Classifier is 0.695338779432965\nThe Recall of the Decision Tree Classifier is 0.45593950215313517\nThe F1 Score of the Decision Tree Classifier is 0.5507485409794468\n"
     ]
    }
   ],
   "source": [
    "# Calculate the rates from the confusion matrix\n",
    "for i in range(0,3):\n",
    "    print('The {0} of the Decision Tree Classifier is {1}'.format(rates[i], calculate_rates(dt_confusion_mat)[i]))"
   ]
  },
  {
   "cell_type": "markdown",
   "metadata": {},
   "source": [
    "### 9.2.  Calculate the confusion matrix of random forest classifier"
   ]
  },
  {
   "cell_type": "code",
   "execution_count": 51,
   "metadata": {},
   "outputs": [
    {
     "output_type": "execute_result",
     "data": {
      "text/plain": [
       "array([[31362.,  5180.],\n",
       "       [ 1902.,  4341.]])"
      ]
     },
     "metadata": {},
     "execution_count": 51
    }
   ],
   "source": [
    "# Create the confusion matrix including actual values and predicted values of RainTomorrow_index of Random Forest Classifier\n",
    "sub_predictions = rf_predictions.select(['RainTomorrow_index', 'prediction'])\n",
    "sub_predictions = sub_predictions.rdd.map(tuple)\n",
    "rf_metrics = MulticlassMetrics(sub_predictions)\n",
    "rf_confusion_mat = dt_metrics.confusionMatrix()\n",
    "rf_confusion_mat = rf_confusion_mat.toArray()\n",
    "rf_confusion_mat"
   ]
  },
  {
   "cell_type": "code",
   "execution_count": 52,
   "metadata": {},
   "outputs": [
    {
     "output_type": "stream",
     "name": "stdout",
     "text": [
      "The Precision of the Random Forest Classifier is 0.695338779432965\nThe Recall of the Random Forest Classifier is 0.45593950215313517\nThe F1 Score of the Random Forest Classifier is 0.5507485409794468\n"
     ]
    }
   ],
   "source": [
    "# Calculate the rates from the confusion matrix\n",
    "for i in range(0,3):\n",
    "    print('The {0} of the Random Forest Classifier is {1}'.format(rates[i], calculate_rates(rf_confusion_mat)[i]))"
   ]
  },
  {
   "cell_type": "markdown",
   "metadata": {},
   "source": [
    "### 9.3. Calculate the confusion matrix of logistic regression"
   ]
  },
  {
   "cell_type": "code",
   "execution_count": 53,
   "metadata": {},
   "outputs": [
    {
     "output_type": "execute_result",
     "data": {
      "text/plain": [
       "array([[31003.,  5672.],\n",
       "       [ 2261.,  3849.]])"
      ]
     },
     "metadata": {},
     "execution_count": 53
    }
   ],
   "source": [
    "# Create the confusion matrix including actual values and predicted values of RainTomorrow_index of Logistic Regression\n",
    "sub_predictions = lr_predictions.select(['RainTomorrow_index', 'prediction'])\n",
    "sub_predictions = sub_predictions.rdd.map(tuple)\n",
    "lr_metrics = MulticlassMetrics(sub_predictions)\n",
    "lr_confusion_mat = lr_metrics.confusionMatrix()\n",
    "lr_confusion_mat = lr_confusion_mat.toArray()\n",
    "lr_confusion_mat"
   ]
  },
  {
   "cell_type": "code",
   "execution_count": 54,
   "metadata": {},
   "outputs": [
    {
     "output_type": "stream",
     "name": "stdout",
     "text": [
      "The Precision of the Logistic Regression is 0.6299509001636662\nThe Recall of the Logistic Regression is 0.40426425795609705\nThe F1 Score of the Logistic Regression is 0.4924828865715566\n"
     ]
    }
   ],
   "source": [
    "# Calculate the rates from the confusion matrix\n",
    "for i in range(0,3):\n",
    "    print('The {0} of the Logistic Regression is {1}'.format(rates[i], calculate_rates(lr_confusion_mat)[i]))"
   ]
  },
  {
   "cell_type": "markdown",
   "metadata": {},
   "source": [
    "### 9.4. Calculate the confusion matrix of GBT classifier"
   ]
  },
  {
   "cell_type": "code",
   "execution_count": 55,
   "metadata": {},
   "outputs": [
    {
     "output_type": "execute_result",
     "data": {
      "text/plain": [
       "array([[31548.,  5065.],\n",
       "       [ 1716.,  4456.]])"
      ]
     },
     "metadata": {},
     "execution_count": 55
    }
   ],
   "source": [
    "# Create the confusion matrix including actual values and predicted values of RainTomorrow_index of GBT Classifier \n",
    "sub_predictions = gbt_predictions.select(['RainTomorrow_index', 'prediction'])\n",
    "sub_predictions = sub_predictions.rdd.map(tuple)\n",
    "gbt_metrics = MulticlassMetrics(sub_predictions)\n",
    "gbt_confusion_mat = gbt_metrics.confusionMatrix()\n",
    "gbt_confusion_mat = gbt_confusion_mat.toArray()\n",
    "gbt_confusion_mat"
   ]
  },
  {
   "cell_type": "code",
   "execution_count": 56,
   "metadata": {},
   "outputs": [
    {
     "output_type": "stream",
     "name": "stdout",
     "text": [
      "The Precision of the GBT Classifier is 0.7219701879455606\nThe Recall of the GBT Classifier is 0.46801806532927215\nThe F1 Score of the GBT Classifier is 0.5678965143694641\n"
     ]
    }
   ],
   "source": [
    "# Calculate the rates from the confusion matrix\n",
    "for i in range(0,3):\n",
    "    print('The {0} of the GBT Classifier is {1}'.format(rates[i], calculate_rates(gbt_confusion_mat)[i]))"
   ]
  },
  {
   "cell_type": "code",
   "execution_count": null,
   "metadata": {},
   "outputs": [],
   "source": []
  }
 ],
 "metadata": {
  "kernelspec": {
   "name": "python3",
   "display_name": "Python 3.8.2 64-bit",
   "metadata": {
    "interpreter": {
     "hash": "aee8b7b246df8f9039afb4144a1f6fd8d2ca17a180786b69acc140d282b71a49"
    }
   }
  },
  "language_info": {
   "codemirror_mode": {
    "name": "ipython",
    "version": 3
   },
   "file_extension": ".py",
   "mimetype": "text/x-python",
   "name": "python",
   "nbconvert_exporter": "python",
   "pygments_lexer": "ipython3",
   "version": "3.8.2-final"
  }
 },
 "nbformat": 4,
 "nbformat_minor": 2
}